{
 "cells": [
  {
   "cell_type": "markdown",
   "metadata": {
    "id": "IP11SvaRlYWN"
   },
   "source": [
    "# A/B-тестирование"
   ]
  },
  {
   "cell_type": "markdown",
   "metadata": {
    "id": "pWy2kRf1lYWN"
   },
   "source": [
    "**Цель работы** - оценка изменения бизнес метрик после введения новой системы рекомендаций пользователям.\n",
    "\n",
    "На изучение поставлены следующие задачи:\n",
    "1. Определение корректности проведения теста:\n",
    "  * соответствие условий требованиям технического задания;\n",
    "  * пересечение с конкурирующими тестами;\n",
    "  * совпадение маркетинговых событий;\n",
    "  * равномерность распределения по тестовым группам;\n",
    "  * особенности проведения A/B-теста.\n",
    "2. Исследовательский анализ:\n",
    "* воронку взаимодействия пользователя с системой;\n",
    "* разница взаимодействий по событиям в выборках;\n",
    "* изменение конверсии на разных этапах;\n",
    "3. Анализ результатов A/B-тестирования:\n",
    "* исследование результатов A/B-эксперимента после смены системы рекомендаций;\n",
    "* статистическая разница долей z-критерий.\n"
   ]
  },
  {
   "cell_type": "markdown",
   "metadata": {
    "id": "n75JzqSplYWN"
   },
   "source": [
    "**Техническое задание**\n",
    "\n",
    "- Название теста: `recommender_system_test`;\n",
    "- группы: А — контрольная, B — новая платёжная воронка;\n",
    "- дата запуска: 2020-12-07;\n",
    "- дата остановки набора новых пользователей: 2020-12-21;\n",
    "- дата остановки: 2021-01-04;\n",
    "- аудитория: 15% новых пользователей из региона EU;\n",
    "- назначение теста: тестирование изменений, связанных с внедрением улучшенной рекомендательной системы;\n",
    "- ожидаемое количество участников теста: 6000.\n",
    "- ожидаемый эффект: за 14 дней с момента регистрации пользователи покажут улучшение каждой метрики не менее, чем на 10%:\n",
    "    - конверсии в просмотр карточек товаров — событие `product_page`,\n",
    "    - просмотры корзины — `product_cart`,\n",
    "    - покупки — `purchase`."
   ]
  },
  {
   "cell_type": "markdown",
   "metadata": {
    "id": "PiZ5rJqslYWO"
   },
   "source": [
    "**Описание данных**\n",
    "\n",
    "`ab_project_marketing_events.csv` — календарь маркетинговых событий на 2020 год.\n",
    "- `name` — название маркетингового события;\n",
    "- `regions` — регионы, в которых будет проводиться рекламная кампания;\n",
    "- `start_dt` — дата начала кампании;\n",
    "- `finish_dt` — дата завершения кампании.\n",
    "\n",
    "\n",
    "`final_ab_new_users.csv` — пользователи, зарегистрировавшиеся с 7 по 21 декабря 2020 года.\n",
    "- `user_id` — идентификатор пользователя;\n",
    "- `first_date` — дата регистрации;\n",
    "- `region` — регион пользователя;\n",
    "- `device` — устройство, с которого происходила регистрация.\n",
    "\n",
    "\n",
    "`final_ab_events.csv` — действия новых пользователей в период с 7 декабря 2020 по 4 января 2021 года.\n",
    "- `user_id` — идентификатор пользователя;\n",
    "- `event_dt` — дата и время покупки;\n",
    "- `event_name` — тип события;\n",
    "- `details` — дополнительные данные о событии. Например, для покупок, `purchase,` в этом поле хранится стоимость покупки в долларах.\n",
    "\n",
    "\n",
    "`final_ab_participants.csv` — таблица участников тестов.\n",
    "- `user_id` — идентификатор пользователя;\n",
    "- `ab_test` — название теста;\n",
    "- `group` — группа пользователя."
   ]
  },
  {
   "cell_type": "markdown",
   "metadata": {
    "id": "GZsu8d8NlYWP"
   },
   "source": [
    "### Шаг 1. Изучение общей информации. Подготовка данных."
   ]
  },
  {
   "cell_type": "code",
   "execution_count": 1,
   "metadata": {
    "id": "sP8YkHGHlYWQ"
   },
   "outputs": [],
   "source": [
    "# импрортируем библиотеки\n",
    "import pandas as pd\n",
    "from scipy import stats as st\n",
    "import datetime as dt\n",
    "from datetime import datetime, date, time\n",
    "import numpy as np\n",
    "import matplotlib.pyplot as plt\n",
    "from pandas.plotting import register_matplotlib_converters\n",
    "import warnings\n",
    "\n",
    "import seaborn as sns\n",
    "\n",
    "import math as mth\n",
    "from plotly import graph_objects as go\n",
    "\n",
    "\n",
    "import plotly\n",
    "import plotly.graph_objs as go\n",
    "import plotly.express as px\n",
    "from plotly.subplots import make_subplots\n",
    "\n",
    "import pylab"
   ]
  },
  {
   "cell_type": "code",
   "execution_count": null,
   "metadata": {
    "id": "zD49lcRPlYWT"
   },
   "outputs": [],
   "source": [
    "# считываем данные csv-файла в датафреймы и сохраняем в переменные\n",
    "# загрузка датафреймов"
   ]
  },
  {
   "cell_type": "markdown",
   "metadata": {
    "id": "32Wk_PeMlYWU"
   },
   "source": [
    "Выведем первые строчки датафреймов на экран и основную информацию о датафреймах с помощью метода `info()` для ознакомления с исследуемыми данными."
   ]
  },
  {
   "cell_type": "markdown",
   "metadata": {
    "colab": {
     "base_uri": "https://localhost:8080/",
     "height": 206
    },
    "executionInfo": {
     "elapsed": 13,
     "status": "ok",
     "timestamp": 1679909799937,
     "user": {
      "displayName": "Liubov Zhulina",
      "userId": "12186326598138178215"
     },
     "user_tz": -180
    },
    "id": "OWJ1VyrLlYWU",
    "outputId": "6a59f8a0-3de9-44de-ec4a-b40534918c65"
   },
   "source": [
    "<вывод> final_ab_events.head()"
   ]
  },
  {
   "cell_type": "markdown",
   "metadata": {
    "colab": {
     "base_uri": "https://localhost:8080/"
    },
    "executionInfo": {
     "elapsed": 950,
     "status": "ok",
     "timestamp": 1679909800875,
     "user": {
      "displayName": "Liubov Zhulina",
      "userId": "12186326598138178215"
     },
     "user_tz": -180
    },
    "id": "Knq2T9nMlYWX",
    "outputId": "9f69de2d-9319-4adb-b6b4-afa06ab1459d"
   },
   "source": [
    "<вывод> final_ab_events.info()"
   ]
  },
  {
   "cell_type": "markdown",
   "metadata": {
    "colab": {
     "base_uri": "https://localhost:8080/",
     "height": 206
    },
    "executionInfo": {
     "elapsed": 10,
     "status": "ok",
     "timestamp": 1679909800876,
     "user": {
      "displayName": "Liubov Zhulina",
      "userId": "12186326598138178215"
     },
     "user_tz": -180
    },
    "id": "d0ApHxDVlYWY",
    "outputId": "3c6b3c80-0c53-44db-8c3b-677144b8b945"
   },
   "source": [
    "<вывод> ab_project_marketing_events.head()"
   ]
  },
  {
   "cell_type": "markdown",
   "metadata": {
    "colab": {
     "base_uri": "https://localhost:8080/"
    },
    "executionInfo": {
     "elapsed": 9,
     "status": "ok",
     "timestamp": 1679909800876,
     "user": {
      "displayName": "Liubov Zhulina",
      "userId": "12186326598138178215"
     },
     "user_tz": -180
    },
    "id": "SWn2WUI1lYWY",
    "outputId": "e792c628-c610-4bb8-b9b0-489d1e4394dc"
   },
   "source": [
    "<вывод> ab_project_marketing_events.info()"
   ]
  },
  {
   "cell_type": "markdown",
   "metadata": {
    "colab": {
     "base_uri": "https://localhost:8080/",
     "height": 206
    },
    "executionInfo": {
     "elapsed": 7,
     "status": "ok",
     "timestamp": 1679909800877,
     "user": {
      "displayName": "Liubov Zhulina",
      "userId": "12186326598138178215"
     },
     "user_tz": -180
    },
    "id": "cgBJim2vlYWZ",
    "outputId": "ffde4cf2-e33a-40bf-92eb-af41de834330"
   },
   "source": [
    "<вывод> final_ab_new_users.head()"
   ]
  },
  {
   "cell_type": "markdown",
   "metadata": {
    "colab": {
     "base_uri": "https://localhost:8080/"
    },
    "executionInfo": {
     "elapsed": 10,
     "status": "ok",
     "timestamp": 1679909801319,
     "user": {
      "displayName": "Liubov Zhulina",
      "userId": "12186326598138178215"
     },
     "user_tz": -180
    },
    "id": "5BEqvhhqlYWZ",
    "outputId": "46e5afa2-a1ba-487d-dd96-af5a319e0b41"
   },
   "source": [
    "<вывод> final_ab_new_users.info()"
   ]
  },
  {
   "cell_type": "markdown",
   "metadata": {
    "colab": {
     "base_uri": "https://localhost:8080/",
     "height": 206
    },
    "executionInfo": {
     "elapsed": 8,
     "status": "ok",
     "timestamp": 1679909801319,
     "user": {
      "displayName": "Liubov Zhulina",
      "userId": "12186326598138178215"
     },
     "user_tz": -180
    },
    "id": "3pMC1Oi2lYWZ",
    "outputId": "f7454b9e-d6a2-4c6a-98e7-1696bce0a724"
   },
   "source": [
    "<вывод> final_ab_participants.head()"
   ]
  },
  {
   "cell_type": "markdown",
   "metadata": {
    "colab": {
     "base_uri": "https://localhost:8080/"
    },
    "executionInfo": {
     "elapsed": 8,
     "status": "ok",
     "timestamp": 1679909801320,
     "user": {
      "displayName": "Liubov Zhulina",
      "userId": "12186326598138178215"
     },
     "user_tz": -180
    },
    "id": "XcwVDaUolYWa",
    "outputId": "79bccb3d-9aa0-4e43-a821-8b4c02899848",
    "scrolled": true
   },
   "source": [
    "<вывод> final_ab_participants.info()"
   ]
  },
  {
   "cell_type": "markdown",
   "metadata": {
    "id": "r3lIaRXTlYWa"
   },
   "source": [
    "#### Работа с пропусками"
   ]
  },
  {
   "cell_type": "markdown",
   "metadata": {
    "id": "JbagLFs5lYWb"
   },
   "source": [
    "Выведем количество пропущенных значений для каждого столбца. Используйте комбинацию двух методов `isnull()` и `sum()`."
   ]
  },
  {
   "cell_type": "code",
   "execution_count": 3,
   "metadata": {
    "colab": {
     "base_uri": "https://localhost:8080/"
    },
    "executionInfo": {
     "elapsed": 434,
     "status": "ok",
     "timestamp": 1679909801748,
     "user": {
      "displayName": "Liubov Zhulina",
      "userId": "12186326598138178215"
     },
     "user_tz": -180
    },
    "id": "UA3aL59glYWb",
    "outputId": "ed903d3b-325b-4d4f-d90c-541d43680d68"
   },
   "outputs": [
    {
     "data": {
      "text/plain": [
       "user_id            0\n",
       "event_dt           0\n",
       "event_name         0\n",
       "details       377577\n",
       "dtype: int64"
      ]
     },
     "execution_count": 3,
     "metadata": {},
     "output_type": "execute_result"
    }
   ],
   "source": [
    "final_ab_events.isnull().sum()"
   ]
  },
  {
   "cell_type": "markdown",
   "metadata": {
    "id": "XKkeYm3qlYWb"
   },
   "source": [
    "Обнаруженно большое количество пропусков по столбцу с дополнением к событию, проверим, какие события есть в таблице, и к чему относятся пропуски."
   ]
  },
  {
   "cell_type": "markdown",
   "metadata": {
    "colab": {
     "base_uri": "https://localhost:8080/"
    },
    "executionInfo": {
     "elapsed": 546,
     "status": "ok",
     "timestamp": 1679909802292,
     "user": {
      "displayName": "Liubov Zhulina",
      "userId": "12186326598138178215"
     },
     "user_tz": -180
    },
    "id": "tXCB757qlYWb",
    "outputId": "b9bb4869-eff7-4d2d-ed5f-80906db5e3fb"
   },
   "source": [
    "<вывод> final_ab_events['event_name'].unique()"
   ]
  },
  {
   "cell_type": "markdown",
   "metadata": {
    "colab": {
     "base_uri": "https://localhost:8080/"
    },
    "executionInfo": {
     "elapsed": 7,
     "status": "ok",
     "timestamp": 1679909802293,
     "user": {
      "displayName": "Liubov Zhulina",
      "userId": "12186326598138178215"
     },
     "user_tz": -180
    },
    "id": "eknH7aw1lYWb",
    "outputId": "8b41e704-7ca2-436d-c5d2-4e011fb88e3c"
   },
   "source": [
    "<вывод> final_ab_events.query('event_name!= \"purchase\"')['user_id'].count()"
   ]
  },
  {
   "cell_type": "markdown",
   "metadata": {
    "colab": {
     "base_uri": "https://localhost:8080/"
    },
    "executionInfo": {
     "elapsed": 284,
     "status": "ok",
     "timestamp": 1679909802572,
     "user": {
      "displayName": "Liubov Zhulina",
      "userId": "12186326598138178215"
     },
     "user_tz": -180
    },
    "id": "W-r86kgylYWc",
    "outputId": "08270e3a-2e9f-429c-d3b4-9759124085ba"
   },
   "source": [
    "<вывод> ab_project_marketing_events.isnull().sum()"
   ]
  },
  {
   "cell_type": "markdown",
   "metadata": {
    "colab": {
     "base_uri": "https://localhost:8080/"
    },
    "executionInfo": {
     "elapsed": 5,
     "status": "ok",
     "timestamp": 1679909802572,
     "user": {
      "displayName": "Liubov Zhulina",
      "userId": "12186326598138178215"
     },
     "user_tz": -180
    },
    "id": "pdNCfwD9lYWc",
    "outputId": "414595ae-f7e6-4ee9-b8a2-a1a8b2dff950"
   },
   "source": [
    "<вывод> final_ab_new_users.isnull().sum()"
   ]
  },
  {
   "cell_type": "markdown",
   "metadata": {
    "colab": {
     "base_uri": "https://localhost:8080/"
    },
    "executionInfo": {
     "elapsed": 5,
     "status": "ok",
     "timestamp": 1679909802573,
     "user": {
      "displayName": "Liubov Zhulina",
      "userId": "12186326598138178215"
     },
     "user_tz": -180
    },
    "id": "yn8drhlNlYWc",
    "outputId": "7568596b-fe02-4d31-c7bf-bdb36fa7d5e4"
   },
   "source": [
    "<вывод> final_ab_participants.isnull().sum()"
   ]
  },
  {
   "cell_type": "markdown",
   "metadata": {
    "id": "F3wspyIVlYWd"
   },
   "source": [
    "Пропуски обнаружены только по столбцу дополнительных данных о событии датафрейма `final_ab_events`, так он имеет данные только на побытии покупка."
   ]
  },
  {
   "cell_type": "markdown",
   "metadata": {
    "id": "NGRMiJuUlYWd"
   },
   "source": [
    "\n",
    "#### Изменение типов данных"
   ]
  },
  {
   "cell_type": "code",
   "execution_count": 4,
   "metadata": {
    "id": "0KS0b0r5lYWd"
   },
   "outputs": [],
   "source": [
    "# изменяем тип данных о дате события датафрейма final_ab_events на `datetime`\n",
    "final_ab_events['event_dt'] = pd.to_datetime(final_ab_events['event_dt'])\n",
    "# добавление столбца с днем\n",
    "final_ab_events['day'] = final_ab_events['event_dt'].astype('datetime64[D]')"
   ]
  },
  {
   "cell_type": "code",
   "execution_count": 5,
   "metadata": {
    "id": "RT4A9OTwlYWd"
   },
   "outputs": [],
   "source": [
    "# изменяем тип данных о дате начала и завершения компании датафрейма ab_project_marketing_events на `datetime`\n",
    "ab_project_marketing_events['start_dt'] = pd.to_datetime(ab_project_marketing_events['start_dt'])\n",
    "ab_project_marketing_events['finish_dt'] = pd.to_datetime(ab_project_marketing_events['finish_dt'])"
   ]
  },
  {
   "cell_type": "code",
   "execution_count": 6,
   "metadata": {
    "id": "On1WywvzlYWe"
   },
   "outputs": [],
   "source": [
    "# изменяем тип данных о дате регестрации датафрейма final_ab_new_users на `datetime`\n",
    "final_ab_new_users['first_date'] = pd.to_datetime(final_ab_new_users['first_date'])\n"
   ]
  },
  {
   "cell_type": "markdown",
   "metadata": {
    "id": "6dZ4DKv_lYWe"
   },
   "source": [
    "#### Поиск дубликатов"
   ]
  },
  {
   "cell_type": "markdown",
   "metadata": {
    "colab": {
     "base_uri": "https://localhost:8080/"
    },
    "executionInfo": {
     "elapsed": 901,
     "status": "ok",
     "timestamp": 1679909804030,
     "user": {
      "displayName": "Liubov Zhulina",
      "userId": "12186326598138178215"
     },
     "user_tz": -180
    },
    "id": "aqFM5_hOlYWe",
    "outputId": "73e57e2f-d1d6-4201-b1c5-f8d52b2d085b"
   },
   "source": [
    "<вывод> final_ab_events.duplicated().sum()"
   ]
  },
  {
   "cell_type": "markdown",
   "metadata": {
    "colab": {
     "base_uri": "https://localhost:8080/"
    },
    "executionInfo": {
     "elapsed": 16,
     "status": "ok",
     "timestamp": 1679909804030,
     "user": {
      "displayName": "Liubov Zhulina",
      "userId": "12186326598138178215"
     },
     "user_tz": -180
    },
    "id": "J3iIDTsrlYWe",
    "outputId": "8ac9fda1-05f0-47ae-e58c-c1d1d8dd78b3"
   },
   "source": [
    "<вывод> ab_project_marketing_events.duplicated().sum()"
   ]
  },
  {
   "cell_type": "markdown",
   "metadata": {
    "colab": {
     "base_uri": "https://localhost:8080/"
    },
    "executionInfo": {
     "elapsed": 15,
     "status": "ok",
     "timestamp": 1679909804032,
     "user": {
      "displayName": "Liubov Zhulina",
      "userId": "12186326598138178215"
     },
     "user_tz": -180
    },
    "id": "AaXI9rE4lYWe",
    "outputId": "b413f36e-d101-456d-ba3d-bf548c0b3163"
   },
   "source": [
    "<вывод> final_ab_new_users.duplicated().sum()"
   ]
  },
  {
   "cell_type": "markdown",
   "metadata": {
    "colab": {
     "base_uri": "https://localhost:8080/"
    },
    "executionInfo": {
     "elapsed": 12,
     "status": "ok",
     "timestamp": 1679909804032,
     "user": {
      "displayName": "Liubov Zhulina",
      "userId": "12186326598138178215"
     },
     "user_tz": -180
    },
    "id": "Xl3GdLEYlYWe",
    "outputId": "eb802d03-5584-491c-e984-edc5259af3c7"
   },
   "source": [
    "<вывод> final_ab_participants.duplicated().sum()"
   ]
  },
  {
   "cell_type": "markdown",
   "metadata": {
    "id": "5-zPNryllYWe"
   },
   "source": [
    "Явных дубликатов необнаружено."
   ]
  },
  {
   "cell_type": "markdown",
   "metadata": {
    "id": "Z3PTZlYtlYWe"
   },
   "source": [
    "#### Изучение тестов"
   ]
  },
  {
   "cell_type": "code",
   "execution_count": 7,
   "metadata": {
    "colab": {
     "base_uri": "https://localhost:8080/"
    },
    "executionInfo": {
     "elapsed": 9,
     "status": "ok",
     "timestamp": 1679909804032,
     "user": {
      "displayName": "Liubov Zhulina",
      "userId": "12186326598138178215"
     },
     "user_tz": -180
    },
    "id": "aYtW7N7klYWf",
    "outputId": "8bfc0671-5e0f-45a9-8fcc-1c0ad2590e50"
   },
   "outputs": [
    {
     "data": {
      "text/plain": [
       "array(['recommender_system_test', 'interface_eu_test'], dtype=object)"
      ]
     },
     "execution_count": 7,
     "metadata": {},
     "output_type": "execute_result"
    }
   ],
   "source": [
    "# количество проводимых тестов\n",
    "final_ab_participants['ab_test'].unique()"
   ]
  },
  {
   "cell_type": "code",
   "execution_count": 8,
   "metadata": {
    "colab": {
     "base_uri": "https://localhost:8080/",
     "height": 112
    },
    "executionInfo": {
     "elapsed": 443,
     "status": "ok",
     "timestamp": 1679909804469,
     "user": {
      "displayName": "Liubov Zhulina",
      "userId": "12186326598138178215"
     },
     "user_tz": -180
    },
    "id": "jfo4X5ENlYWf",
    "outputId": "842e0ec4-15e2-4e8a-b3ef-88e5cd2f1ec6"
   },
   "outputs": [
    {
     "ename": "SyntaxError",
     "evalue": "invalid syntax (3353824442.py, line 2)",
     "output_type": "error",
     "traceback": [
      "\u001b[0;36m  File \u001b[0;32m\"/tmp/ipykernel_183/3353824442.py\"\u001b[0;36m, line \u001b[0;32m2\u001b[0m\n\u001b[0;31m    <вывод> final_ab_participants.groupby('ab_test').agg({'user_id':'nunique'}).reset_index()\u001b[0m\n\u001b[0m    ^\u001b[0m\n\u001b[0;31mSyntaxError\u001b[0m\u001b[0;31m:\u001b[0m invalid syntax\n"
     ]
    }
   ],
   "source": [
    "# количество пользователей в каждом тесте\n",
    "<вывод> final_ab_participants.groupby('ab_test').agg({'user_id':'nunique'}).reset_index()"
   ]
  },
  {
   "cell_type": "markdown",
   "metadata": {
    "id": "uDj_eLjnlYWf"
   },
   "source": [
    "Представлены два теста, по изменению интерфейса на европейскую аудиторию и изменение системы рекомендаций. В первый тест вовлечена большая часть пользователей 11567, во втором тесте участвует 6701 пользователь."
   ]
  },
  {
   "cell_type": "markdown",
   "metadata": {
    "id": "ToL59c2SlYWf"
   },
   "source": [
    "### Шаг 2. Корректность проведения теста"
   ]
  },
  {
   "cell_type": "markdown",
   "metadata": {
    "id": "AVsydqOWlYWf"
   },
   "source": [
    "Проверяем соответствие данных требованиям технического задания"
   ]
  },
  {
   "cell_type": "markdown",
   "metadata": {
    "id": "dUgb9Et3lYWf"
   },
   "source": [
    "#### Соответствие дат требованиям технического задания"
   ]
  },
  {
   "cell_type": "markdown",
   "metadata": {
    "id": "qN0aXPUWlYWg"
   },
   "source": [
    "Дата запуска теста: 07.12.2020"
   ]
  },
  {
   "cell_type": "code",
   "execution_count": null,
   "metadata": {
    "colab": {
     "base_uri": "https://localhost:8080/"
    },
    "executionInfo": {
     "elapsed": 7,
     "status": "ok",
     "timestamp": 1679909804469,
     "user": {
      "displayName": "Liubov Zhulina",
      "userId": "12186326598138178215"
     },
     "user_tz": -180
    },
    "id": "VxWSl-cVlYWg",
    "outputId": "d17173da-12c0-4d41-adea-4887de71276b"
   },
   "outputs": [],
   "source": [
    "# определяем минимальную дату начала набора пользователей в группы\n",
    "final_ab_new_users['first_date'].min()"
   ]
  },
  {
   "cell_type": "markdown",
   "metadata": {
    "id": "T4PV5b3xlYWg"
   },
   "source": [
    "Дата запуска теста совпадает с началом набора пользователей.\n",
    "\n",
    "Дата остановки набора новых пользователей: 2020-12-21"
   ]
  },
  {
   "cell_type": "code",
   "execution_count": null,
   "metadata": {
    "colab": {
     "base_uri": "https://localhost:8080/"
    },
    "executionInfo": {
     "elapsed": 2,
     "status": "ok",
     "timestamp": 1679909983942,
     "user": {
      "displayName": "Liubov Zhulina",
      "userId": "12186326598138178215"
     },
     "user_tz": -180
    },
    "id": "prywEvN3lYWg",
    "outputId": "52da2f86-d496-42b8-f546-302311fe7a7a"
   },
   "outputs": [],
   "source": [
    "# определяем максимальную дату начала набора пользователей в группы\n",
    "#final_ab_new_users['first_date'].max()\n",
    "final_ab_participants.merge(final_ab_new_users, on = 'user_id', how = 'left')\\\n",
    ".query('ab_test == \"recommender_system_test\"')['first_date'].max()"
   ]
  },
  {
   "cell_type": "markdown",
   "metadata": {
    "id": "JBAWCToqlYWg"
   },
   "source": [
    "Дата остановки надора пользователей в группы исследуемого теста соответствует заданию.\n",
    "\n",
    "Оценка теста определяется по достижению повешения метрик на 14й день после регистрации, т.е. события пользователей учитываются до даты окончания теста по 04.01.2021."
   ]
  },
  {
   "cell_type": "code",
   "execution_count": null,
   "metadata": {
    "colab": {
     "base_uri": "https://localhost:8080/"
    },
    "executionInfo": {
     "elapsed": 222,
     "status": "ok",
     "timestamp": 1679910040882,
     "user": {
      "displayName": "Liubov Zhulina",
      "userId": "12186326598138178215"
     },
     "user_tz": -180
    },
    "id": "cPyPa7FllYWg",
    "outputId": "78f6b5aa-58ef-4155-af28-3b9c9813a6b3"
   },
   "outputs": [],
   "source": [
    "# день последней регистрации событий пользователей\n",
    "final_ab_events['day'].max()"
   ]
  },
  {
   "cell_type": "markdown",
   "metadata": {
    "id": "SDHbL_I8lYWg"
   },
   "source": [
    "Тест продолжиется до 4 января, но последнее событие зарегестроравано 30 декабря. В данном случае следовало бы проверить систему сбора данных, либо возникновение технических ошибок, т.к. маловероятно, что все пользователи разом прекратили осуществление покупок.\n"
   ]
  },
  {
   "cell_type": "markdown",
   "metadata": {
    "id": "ozEiW6EflYWh"
   },
   "source": [
    "#### Аудитория: 15% новых пользователей из региона EU"
   ]
  },
  {
   "cell_type": "markdown",
   "metadata": {
    "id": "jcNv12rdlYWh"
   },
   "source": [
    "1. Определить долю участвующих в тесте от всех новых пользователей.\n",
    "2. Проверить, являются ли аудитория теста 15% новых пользователей из региона EU."
   ]
  },
  {
   "cell_type": "code",
   "execution_count": null,
   "metadata": {
    "id": "QK2su-NflYWi"
   },
   "outputs": [],
   "source": [
    "# пользователи участвующие в исследуемом тесте\n",
    "audit_test = final_ab_participants.query('ab_test == \"recommender_system_test\"')"
   ]
  },
  {
   "cell_type": "code",
   "execution_count": null,
   "metadata": {
    "colab": {
     "base_uri": "https://localhost:8080/"
    },
    "executionInfo": {
     "elapsed": 14,
     "status": "ok",
     "timestamp": 1679910041506,
     "user": {
      "displayName": "Liubov Zhulina",
      "userId": "12186326598138178215"
     },
     "user_tz": -180
    },
    "id": "dC5ICkHAlYWi",
    "outputId": "833163d6-bf2b-4e4f-e172-be366170e09a"
   },
   "outputs": [],
   "source": [
    "print(f'Количество новых пользователей составляет {final_ab_new_users[\"user_id\"].nunique()}')\n",
    "print(f'Количество пользователей, участвующих в тесте - {audit_test[\"user_id\"].nunique()}, '\n",
    "     f'что составляет {round(audit_test[\"user_id\"].nunique()*100/final_ab_new_users[\"user_id\"].nunique(),2)}% от всех новых пользователей.')"
   ]
  },
  {
   "cell_type": "code",
   "execution_count": null,
   "metadata": {
    "id": "WC82ruBAlYWi"
   },
   "outputs": [],
   "source": [
    "# количество новых пользователей из Евросоюза, пришедших в период набора пользователей в тест\n",
    "audit_eu = (\n",
    "    final_ab_new_users\n",
    "    .query('region == \"EU\" & first_date <= \"2020-12-21\" & first_date >= \"2020-12-07\"')\n",
    ")\n",
    "\n",
    "# пользователи Евросоюза, участвующие в тесте\n",
    "audit_eu_test = audit_eu.query('user_id in @audit_test.user_id')"
   ]
  },
  {
   "cell_type": "code",
   "execution_count": null,
   "metadata": {
    "colab": {
     "base_uri": "https://localhost:8080/"
    },
    "executionInfo": {
     "elapsed": 13,
     "status": "ok",
     "timestamp": 1679910041507,
     "user": {
      "displayName": "Liubov Zhulina",
      "userId": "12186326598138178215"
     },
     "user_tz": -180
    },
    "id": "1h1EKNYzlYWi",
    "outputId": "17dce67f-3d14-48be-8609-96af8eccad9d"
   },
   "outputs": [],
   "source": [
    "print(f'Количество новых пользователей из региона EU составляет {audit_eu[\"user_id\"].nunique()}')\n",
    "print(f'Количество пользователей из региона EU, участвующих в тесте - {audit_eu_test[\"user_id\"].nunique()}, '\n",
    "      f'что составляет {round(audit_eu_test[\"user_id\"].nunique()*100/audit_eu[\"user_id\"].nunique(),2)}% '\n",
    "      f'от всех новых пользователей из региона EU.')"
   ]
  },
  {
   "cell_type": "markdown",
   "metadata": {
    "id": "ZeFpEN0AcnIQ"
   },
   "source": [
    "Количество новых пользователей составляет 61733, из них 42340 являются представителями европейской аудитории. Количество пользователей, участвующих в тесте - 6701, что составляет 10.85% от всех новых пользователей. Количество пользователей из региона EU, участвующих в тесте - 6351, что составляет 15.0% от всех новых пользователей из региона EU."
   ]
  },
  {
   "cell_type": "markdown",
   "metadata": {
    "id": "QaTh4Zh7lYWj"
   },
   "source": [
    "По ТЗ ожидаемое количество участников теста: 6000. В таком случае пересмотрим соотношение по пользователям из Евросоюза."
   ]
  },
  {
   "cell_type": "code",
   "execution_count": null,
   "metadata": {
    "colab": {
     "base_uri": "https://localhost:8080/"
    },
    "executionInfo": {
     "elapsed": 11,
     "status": "ok",
     "timestamp": 1679910041507,
     "user": {
      "displayName": "Liubov Zhulina",
      "userId": "12186326598138178215"
     },
     "user_tz": -180
    },
    "id": "7lxBuj2XlYWj",
    "outputId": "0a5bf956-ddb2-4678-e0fb-5d51964c0909"
   },
   "outputs": [],
   "source": [
    "test_users = 6000\n",
    "print(f'Пользователей из Евросоюза {audit_eu_test[\"user_id\"].nunique()}, что составляет '\n",
    "    f'{round(audit_eu_test[\"user_id\"].nunique()*100/test_users,2)}% от ожидаемого числа участников теста '\n",
    "    f'и {round(audit_eu_test[\"user_id\"].nunique()*100/audit_test[\"user_id\"].nunique(),2)}% от '\n",
    "    f'фактического числа участников теста')"
   ]
  },
  {
   "cell_type": "markdown",
   "metadata": {
    "id": "K6UnH0EclYWj"
   },
   "source": [
    "При соблюдении условия, что участников теста должно быть 6000 пользователей, то требования соблюдаются, т.к. пользователей, участвующих в тесте, из Евросоюза 6351. В целом, новых клиентов региона EU 42340, и доля участвующих в тесте среди них составляет 15%, что соответсвует требованиям."
   ]
  },
  {
   "cell_type": "markdown",
   "metadata": {
    "id": "gxqAexEClYWj"
   },
   "source": [
    "#### Маркетинговые события"
   ]
  },
  {
   "cell_type": "code",
   "execution_count": null,
   "metadata": {
    "colab": {
     "base_uri": "https://localhost:8080/",
     "height": 112
    },
    "executionInfo": {
     "elapsed": 8,
     "status": "ok",
     "timestamp": 1679910041507,
     "user": {
      "displayName": "Liubov Zhulina",
      "userId": "12186326598138178215"
     },
     "user_tz": -180
    },
    "id": "tgYDkZ9llYWj",
    "outputId": "ea45ddad-c6c6-47ae-a254-5d0707ba6eee"
   },
   "outputs": [],
   "source": [
    "# выводим маркетинговые события, дата которых попадает на время теста\n",
    "ab_project_marketing_events.query('start_dt >= \"2020-12-07\"')"
   ]
  },
  {
   "cell_type": "markdown",
   "metadata": {
    "id": "odtM4uijlYWj"
   },
   "source": [
    "На дату теста выпадает два маркетинговых события, что может исказить результаты. Так как такие события влияют на обе группы, можно пренебречь данным обстоятельтсвом, но следует отметить, что в таком случае не будет точной уверенности, что повлияло на активность пользователей, события или изменения в системе рекомендаций. К тому же, даже без этих маркетинговых событий, конец года в предверии праздничных дней характеризуется повышенной активностью пользователей. Прием пользователей оканчивается до начала компаний."
   ]
  },
  {
   "cell_type": "markdown",
   "metadata": {
    "id": "5ldMiuxolYWj"
   },
   "source": [
    "#### Аудитория теста"
   ]
  },
  {
   "cell_type": "markdown",
   "metadata": {
    "id": "l4Wvh7bQlYWj"
   },
   "source": [
    "Представлены ли пользователи в двух группах"
   ]
  },
  {
   "cell_type": "code",
   "execution_count": null,
   "metadata": {
    "colab": {
     "base_uri": "https://localhost:8080/"
    },
    "executionInfo": {
     "elapsed": 7,
     "status": "ok",
     "timestamp": 1679910041507,
     "user": {
      "displayName": "Liubov Zhulina",
      "userId": "12186326598138178215"
     },
     "user_tz": -180
    },
    "id": "27g-tZDtlYWk",
    "outputId": "0c12c521-70e6-4904-a186-54e2219ac26e"
   },
   "outputs": [],
   "source": [
    "# проверим пересечение групп по пользователям\n",
    "audit_test.groupby('user_id').agg({'group':'nunique'}).reset_index().query('group > 1')['user_id'].count()"
   ]
  },
  {
   "cell_type": "markdown",
   "metadata": {
    "id": "ZW5-suiclYWk"
   },
   "source": [
    "Пользователи теста не пересекаются в группах."
   ]
  },
  {
   "cell_type": "code",
   "execution_count": null,
   "metadata": {
    "colab": {
     "base_uri": "https://localhost:8080/",
     "height": 596
    },
    "executionInfo": {
     "elapsed": 295,
     "status": "ok",
     "timestamp": 1679910530511,
     "user": {
      "displayName": "Liubov Zhulina",
      "userId": "12186326598138178215"
     },
     "user_tz": -180
    },
    "id": "2sfUqeP3lYWk",
    "outputId": "9fa28ef9-d00c-44e4-d15c-e3f02519c5cb"
   },
   "outputs": [],
   "source": [
    "# формируем таблицу по группам теста и посчитаем количество уникальных клиентов\n",
    "audit_test_group = audit_test.groupby('group').agg({'user_id':'nunique'}).reset_index()\n",
    "                 \n",
    "# строим круговую диаграмму \n",
    "plt.figure(figsize=(15,8))\n",
    "colors = sns.color_palette('pastel')\n",
    "plt.pie(audit_test_group['user_id'], colors = colors, pctdistance=0.8, radius=1, autopct = '%0.0f%%')\n",
    "plt.title('Распределение количества пользователей по группам' + \"\\n\", fontsize=15)\n",
    "plt.legend(audit_test_group['group'])\n",
    "plt.show()\n",
    "\n",
    "audit_test_group"
   ]
  },
  {
   "cell_type": "markdown",
   "metadata": {
    "id": "daSALXAOd-g9"
   },
   "source": [
    "В группу `A` входит 3824 пользователя, в группу `B` - 2877. Распределение в долях по группам 57% к 43% соответственно."
   ]
  },
  {
   "cell_type": "markdown",
   "metadata": {
    "id": "Dd11DwWIlYWk"
   },
   "source": [
    "#### Динамика регистраций пользователей теста "
   ]
  },
  {
   "cell_type": "code",
   "execution_count": null,
   "metadata": {
    "id": "O0ZsSirblYWk"
   },
   "outputs": [],
   "source": [
    "# таблица пользователей теста с датой регистрации и группой\n",
    "audit_test_reg = audit_test.merge(final_ab_new_users, on='user_id', how='left')"
   ]
  },
  {
   "cell_type": "code",
   "execution_count": null,
   "metadata": {
    "colab": {
     "base_uri": "https://localhost:8080/",
     "height": 513
    },
    "executionInfo": {
     "elapsed": 889,
     "status": "ok",
     "timestamp": 1679910826739,
     "user": {
      "displayName": "Liubov Zhulina",
      "userId": "12186326598138178215"
     },
     "user_tz": -180
    },
    "id": "HYTV1NBdejrd",
    "outputId": "e10a2137-ffd5-4008-d45c-7af26461bded"
   },
   "outputs": [],
   "source": [
    "# подготавливаем таблицу сгруппированную по дням и группе теста с расчетом уникальных пользователей\n",
    "audit_test_reg_day = audit_test_reg.groupby(['first_date', 'group']).agg({'user_id':'nunique'}).reset_index()\n",
    "\n",
    "# строим линейный график изменения количества количества событий по дням\n",
    "plt.figure(figsize=(15,8))\n",
    "sns.lineplot(data=audit_test_reg_day, x='first_date', y='user_id', hue='group')\n",
    "plt.grid()\n",
    "plt.xlabel('Дата статистики')\n",
    "plt.ylabel('Количество новых пользователей')\n",
    "plt.title('Изменение количества регистраций новых пользователей по дням в разбивке по группам')\n",
    "plt.show()"
   ]
  },
  {
   "cell_type": "markdown",
   "metadata": {
    "id": "hcIMm-4RlYWk"
   },
   "source": [
    "Особых различий в динамике регистраций не наблюдается. Пользователи разных групп приходили с одинаковым темпом."
   ]
  },
  {
   "cell_type": "markdown",
   "metadata": {
    "id": "INyIkPDPlYWl"
   },
   "source": [
    "#### Параллельные тесты"
   ]
  },
  {
   "cell_type": "code",
   "execution_count": null,
   "metadata": {
    "colab": {
     "base_uri": "https://localhost:8080/",
     "height": 441
    },
    "executionInfo": {
     "elapsed": 1226,
     "status": "ok",
     "timestamp": 1679917103997,
     "user": {
      "displayName": "Liubov Zhulina",
      "userId": "12186326598138178215"
     },
     "user_tz": -180
    },
    "id": "TBFsJXihfxjF",
    "outputId": "1206d330-b7f1-4dcf-9d51-b480cd5c0b42"
   },
   "outputs": [],
   "source": [
    "# подготавливаем таблицу количества пользователей в разбивке по типу теста\n",
    "parallel_tests = final_ab_participants.groupby(['ab_test', 'group']).agg({'user_id':'nunique'}).reset_index()\n",
    "\n",
    "# строим столбчатую диаграмму \n",
    "labels = list(parallel_tests['ab_test'].unique())\n",
    "one = list(parallel_tests.query('group==\"A\"')['user_id'])\n",
    "two = list(parallel_tests.query('group==\"B\"')['user_id']) \n",
    "\n",
    "x = np.arange(len(labels))  # положение подписи\n",
    "width = 0.5  # ширина столбца\n",
    "\n",
    "fig, ax = plt.subplots(figsize=(12,6))\n",
    "rects1 = ax.bar(x - width/4, one, width/2, label='A', color='lightsteelblue')\n",
    "rects2 = ax.bar(x + width/4, two, width/2, label='B', color='cornflowerblue')\n",
    "\n",
    "# подписи для оси х и расположение подписи\n",
    "ax.set_xlabel('Тест')\n",
    "ax.set_ylabel('Количество пользователей')\n",
    "ax.set_title('Распределение пользователей по тестам и группам')\n",
    "ax.set_xticks(x)\n",
    "ax.set_xticklabels(labels)\n",
    "ax.legend()\n",
    "\n",
    "def autolabel(rects):\n",
    "    \"\"\"расположение подписи над каждым баром\"\"\"\n",
    "    for rect in rects:\n",
    "        height = rect.get_height()\n",
    "        ax.annotate('{}'.format(height),\n",
    "                    xy=(rect.get_x() + rect.get_width() /2, height),\n",
    "                    xytext=(0, 3),  # положение подписи над баром\n",
    "                    textcoords=\"offset points\",\n",
    "                    ha='center', va='bottom')\n",
    "\n",
    "autolabel(rects1)\n",
    "autolabel(rects2)\n",
    "\n",
    "fig.tight_layout()\n",
    "\n",
    "plt.show()"
   ]
  },
  {
   "cell_type": "markdown",
   "metadata": {
    "id": "pX3Dhr76lYWl"
   },
   "source": [
    "Проверим пересечение пользователей в разных тестах"
   ]
  },
  {
   "cell_type": "code",
   "execution_count": null,
   "metadata": {
    "colab": {
     "base_uri": "https://localhost:8080/",
     "height": 596
    },
    "executionInfo": {
     "elapsed": 246,
     "status": "ok",
     "timestamp": 1679919819173,
     "user": {
      "displayName": "Liubov Zhulina",
      "userId": "12186326598138178215"
     },
     "user_tz": -180
    },
    "id": "6Kh0Cu2o_bE9",
    "outputId": "06d900b8-0609-4301-daba-a4f80cea3022"
   },
   "outputs": [],
   "source": [
    "two_tests = (final_ab_participants.groupby('user_id').agg({'group':'count'}).reset_index()\n",
    ".groupby('group').agg({'user_id':'count'}).reset_index()\n",
    ")\n",
    "\n",
    "# строим круговую диаграмму \n",
    "plt.figure(figsize=(15,8))\n",
    "colors = sns.color_palette('pastel')\n",
    "plt.pie(two_tests['user_id'], colors = colors, pctdistance=0.8, radius=1, autopct = '%0.0f%%')\n",
    "plt.title('Распределение пользователей по количеству тестов' + \"\\n\", fontsize=15)\n",
    "plt.legend(two_tests['group'])\n",
    "plt.show()\n",
    "\n",
    "two_tests"
   ]
  },
  {
   "cell_type": "markdown",
   "metadata": {
    "id": "I5Xqq3DalYWl"
   },
   "source": [
    "Из всех пользователей, вовлеченных в проведение теста, 1602 пользователя или 10% принимают участие в двух тестах."
   ]
  },
  {
   "cell_type": "code",
   "execution_count": null,
   "metadata": {
    "id": "wRbNgqFglYWl"
   },
   "outputs": [],
   "source": [
    "# пользователи, принимающие участие в разных тестах\n",
    "users_two_groups = final_ab_participants.groupby('user_id').agg({'group':'count'}).query('group > 1').reset_index()"
   ]
  },
  {
   "cell_type": "markdown",
   "metadata": {
    "id": "5kY9ovRclYWl"
   },
   "source": [
    "##### Распределение двойных участников по тесту `interface_eu_test`"
   ]
  },
  {
   "cell_type": "code",
   "execution_count": null,
   "metadata": {
    "id": "1TTgLgqvlYWl"
   },
   "outputs": [],
   "source": [
    "# участники теста \"interface_eu_test\"\n",
    "interface_test = final_ab_participants.query(\"ab_test == 'interface_eu_test'\")"
   ]
  },
  {
   "cell_type": "code",
   "execution_count": null,
   "metadata": {
    "colab": {
     "base_uri": "https://localhost:8080/"
    },
    "executionInfo": {
     "elapsed": 15,
     "status": "ok",
     "timestamp": 1679910043467,
     "user": {
      "displayName": "Liubov Zhulina",
      "userId": "12186326598138178215"
     },
     "user_tz": -180
    },
    "id": "f4o0gcYNlYWm",
    "outputId": "92656341-117a-4c0d-c3a7-5586211b3817"
   },
   "outputs": [],
   "source": [
    "# какое количество пользователей, участвующих в обоих тестах,\n",
    "# принимает участие в рассматриваемом\n",
    "interface_test_two = interface_test.query(\"user_id in @users_two_groups.user_id\")\n",
    "print(f'Количество пользователей, участвующих в двух тестах, составляет '\n",
    "      f'{interface_test_two[\"user_id\"].nunique()}, что представляет '\n",
    "      f'{round(interface_test_two[\"user_id\"].nunique()*100/interface_test[\"user_id\"].nunique(),2)}% '\n",
    "      f'от общего числа участников теста \"interface_eu_test\".'\n",
    ")"
   ]
  },
  {
   "cell_type": "code",
   "execution_count": null,
   "metadata": {
    "colab": {
     "base_uri": "https://localhost:8080/",
     "height": 502
    },
    "executionInfo": {
     "elapsed": 587,
     "status": "ok",
     "timestamp": 1679920063021,
     "user": {
      "displayName": "Liubov Zhulina",
      "userId": "12186326598138178215"
     },
     "user_tz": -180
    },
    "id": "bLcFEPV6Bt9H",
    "outputId": "b8f9351d-9fcd-4d6a-c29e-806f43748a6a"
   },
   "outputs": [],
   "source": [
    "# формируем таблицу по группам теста и посчитаем количество уникальных клиентов, участвующих в нескольких тестах\n",
    "interface_test_two_group = interface_test_two.groupby('group').agg({'user_id':'nunique'}).reset_index()\n",
    "\n",
    "# строим круговую диаграмму \n",
    "plt.figure(figsize=(15,8))\n",
    "colors = sns.color_palette('pastel')\n",
    "plt.pie(interface_test_two_group['user_id'], colors = colors, pctdistance=0.8, radius=1, autopct = '%0.0f%%')\n",
    "plt.title('Распределение количества пользователей двух тестов по группам теста \"interface_eu_test\"' + \"\\n\", fontsize=15)\n",
    "plt.legend(interface_test_two_group['group'])\n",
    "plt.show()"
   ]
  },
  {
   "cell_type": "markdown",
   "metadata": {
    "id": "SBlH6y6ulYWm"
   },
   "source": [
    "Т.е. пользователи, принимающие участие в двух тестах, практически в равной доли распределены в тесте \"interface_eu_test\". "
   ]
  },
  {
   "cell_type": "markdown",
   "metadata": {
    "id": "aRuEQNZ6lYWm"
   },
   "source": [
    "##### Распределение двойных участников по тесту `recommender_system_test`"
   ]
  },
  {
   "cell_type": "code",
   "execution_count": null,
   "metadata": {
    "colab": {
     "base_uri": "https://localhost:8080/"
    },
    "executionInfo": {
     "elapsed": 11,
     "status": "ok",
     "timestamp": 1679910043467,
     "user": {
      "displayName": "Liubov Zhulina",
      "userId": "12186326598138178215"
     },
     "user_tz": -180
    },
    "id": "JBUqtQA3lYWm",
    "outputId": "695bfb57-c374-4c53-daae-4d8db80539a7"
   },
   "outputs": [],
   "source": [
    "# какое количество пользователей, участвующих в обоих тестах,\n",
    "# принимает участие в рассматриваемом\n",
    "audit_test_two = audit_test.query(\"user_id in @users_two_groups.user_id\")\n",
    "print(f'Количество пользователей, участвующих в двух тестах, составляет '\n",
    "      f'{audit_test_two[\"user_id\"].nunique()}, что представляет '\n",
    "      f'{round(audit_test_two[\"user_id\"].nunique()*100/audit_test[\"user_id\"].nunique(),2)}% '\n",
    "      f'от общего числа участников исследуемого теста.'\n",
    ")"
   ]
  },
  {
   "cell_type": "code",
   "execution_count": null,
   "metadata": {
    "colab": {
     "base_uri": "https://localhost:8080/",
     "height": 502
    },
    "executionInfo": {
     "elapsed": 321,
     "status": "ok",
     "timestamp": 1679920121181,
     "user": {
      "displayName": "Liubov Zhulina",
      "userId": "12186326598138178215"
     },
     "user_tz": -180
    },
    "id": "YUfWaHKXCj-V",
    "outputId": "c0cf9d91-b825-40c1-aede-fb03d1e58706"
   },
   "outputs": [],
   "source": [
    "# формируем таблицу по группам теста и посчитаем количество уникальных клиентов, участвующих в нескольких тестах\n",
    "audit_test_two_group = audit_test_two.groupby('group').agg({'user_id':'nunique'}).reset_index()\n",
    "\n",
    "# строим круговую диаграмму \n",
    "plt.figure(figsize=(15,8))\n",
    "colors = sns.color_palette('pastel')\n",
    "plt.pie(audit_test_two_group['user_id'], colors = colors, pctdistance=0.8, radius=1, autopct = '%0.0f%%')\n",
    "plt.title('Распределение количества пользователей двух тестов по группам теста \"recommender_system_test\"' + \"\\n\", fontsize=15)\n",
    "plt.legend(audit_test_two_group['group'])\n",
    "plt.show()"
   ]
  },
  {
   "cell_type": "markdown",
   "metadata": {
    "id": "xJZhUtGAlYWm"
   },
   "source": [
    "Двойные участники принадлежат разным группам теста \"recommender_system_test\", 57% в группе \"А\" и 43% в группе \"В\". "
   ]
  },
  {
   "cell_type": "code",
   "execution_count": null,
   "metadata": {
    "colab": {
     "base_uri": "https://localhost:8080/",
     "height": 112
    },
    "executionInfo": {
     "elapsed": 243,
     "status": "ok",
     "timestamp": 1679920498462,
     "user": {
      "displayName": "Liubov Zhulina",
      "userId": "12186326598138178215"
     },
     "user_tz": -180
    },
    "id": "PFseGitkDhfM",
    "outputId": "57fa06cd-f415-402c-9f48-ca0301852605"
   },
   "outputs": [],
   "source": [
    "int_test_b = interface_test_two.query('group == \"B\"')\n",
    "audit_test_two_int = (audit_test_two.query('user_id in @int_test_b.user_id')\n",
    "    .groupby('group').agg({'user_id':'nunique'}).reset_index())\n",
    "audit_test_two_int"
   ]
  },
  {
   "cell_type": "code",
   "execution_count": null,
   "metadata": {
    "colab": {
     "base_uri": "https://localhost:8080/",
     "height": 521
    },
    "executionInfo": {
     "elapsed": 322,
     "status": "ok",
     "timestamp": 1679920562953,
     "user": {
      "displayName": "Liubov Zhulina",
      "userId": "12186326598138178215"
     },
     "user_tz": -180
    },
    "id": "bRU6TDHYC4Ik",
    "outputId": "bc7f2835-c4be-4ef1-88d3-aeaad868ad7a"
   },
   "outputs": [],
   "source": [
    "# проверим, в разные ли группы исследуемого теста попадают участники группы \"B\" теста \"interface_eu_test\"\n",
    "int_test_b = interface_test_two.query('group == \"B\"')\n",
    "audit_test_two_int = (audit_test_two.query('user_id in @int_test_b.user_id')\n",
    "    .groupby('group').agg({'user_id':'nunique'}).reset_index())\n",
    "    \n",
    "\n",
    "# строим круговую диаграмму \n",
    "plt.figure(figsize=(15,8))\n",
    "colors = sns.color_palette('pastel')\n",
    "plt.pie(audit_test_two_int['user_id'], colors = colors, pctdistance=0.8, radius=1, autopct = '%0.0f%%')\n",
    "plt.title('Распределение количества пользователей группы \"B\" теста \"interface_eu_test\"' + \"\\n\"\n",
    "          'по группам теста \"recommender_system_test\"' + \"\\n\", fontsize=15)\n",
    "plt.legend(audit_test_two_int['group'])\n",
    "plt.show()"
   ]
  },
  {
   "cell_type": "markdown",
   "metadata": {
    "id": "TOfyq8MklYWm"
   },
   "source": [
    "В соответствии с полученными данными, у нас происходит смешивание разных групп по тестам: участники группы \"B\" теста \"interface_eu_test\" присутствуют в обоих группах теста\"recommender_system_test\". Пользователи группы \"В\" по первому тесту, с измененным интерфейсом, будут присутствовать и в контрольной группе, и в группе с измененной системой рекомендаций исследуемого теста. При этом если делается акцент на европейскую аудиторию, активность некоторых участников, состоящих в группах \"В\" по обоим тестам, может отличаться от активности участников исследуемого теста группы \"В\"."
   ]
  },
  {
   "cell_type": "markdown",
   "metadata": {
    "id": "DMJgTqwYlYWn"
   },
   "source": [
    "#### Преобразования по требованиям ТЗ"
   ]
  },
  {
   "cell_type": "markdown",
   "metadata": {
    "id": "3y6aTirWlYWn"
   },
   "source": [
    "Учитывая, что требования указывают на определенный регион, то оставляем в тесте пользователей Евросоюза, при таком сокращении, аудитория теста все равно остается выше ожидаемого числа в 6000 пользователей."
   ]
  },
  {
   "cell_type": "code",
   "execution_count": null,
   "metadata": {
    "id": "wrAsqCnAlYWn"
   },
   "outputs": [],
   "source": [
    "# оставляем в аудитории теста пользователей из Евросоюза\n",
    "# добавляем аудитории теста действия\n",
    "df_test = (\n",
    "    audit_eu_test\n",
    "    .merge(audit_test, on='user_id', how='left')\n",
    "    .merge(final_ab_events, on='user_id', how='left')\n",
    ")\n",
    "# добавляем каждому пользователю лайфтайм\n",
    "df_test['lifetime']= (df_test['day'] - df_test['first_date']).dt.days"
   ]
  },
  {
   "cell_type": "markdown",
   "metadata": {
    "id": "_D-AUpkPlYWn"
   },
   "source": [
    "Проверим соответствие событий временному интервалу в 14 дней"
   ]
  },
  {
   "cell_type": "code",
   "execution_count": null,
   "metadata": {
    "colab": {
     "base_uri": "https://localhost:8080/"
    },
    "executionInfo": {
     "elapsed": 21,
     "status": "ok",
     "timestamp": 1679910043749,
     "user": {
      "displayName": "Liubov Zhulina",
      "userId": "12186326598138178215"
     },
     "user_tz": -180
    },
    "id": "baSWO-7hlYWn",
    "outputId": "ba728d55-b800-4048-d277-87ad4e333900"
   },
   "outputs": [],
   "source": [
    "# сколько записей событий не соответствует требованиям ТЗ по периоду событий\n",
    "df_test.query('lifetime > 14')['user_id'].count()"
   ]
  },
  {
   "cell_type": "code",
   "execution_count": null,
   "metadata": {
    "colab": {
     "base_uri": "https://localhost:8080/"
    },
    "executionInfo": {
     "elapsed": 21,
     "status": "ok",
     "timestamp": 1679910043750,
     "user": {
      "displayName": "Liubov Zhulina",
      "userId": "12186326598138178215"
     },
     "user_tz": -180
    },
    "id": "yZ_WUZgBlYWn",
    "outputId": "0eb21ed7-b143-4ea3-9949-277a97ac3b1a"
   },
   "outputs": [],
   "source": [
    "# количество пользователей, действия которых превышают лайфтайм в 14 дней\n",
    "df_test.query('lifetime > 14')['user_id'].nunique()"
   ]
  },
  {
   "cell_type": "markdown",
   "metadata": {
    "id": "qARX9CQalYWn"
   },
   "source": [
    "В данных присутствуют записи о событиях, превышающих 14 дней, совершенных 255 пользователями. Нам эти данные не требуются, т.к. в ТЗ прописано про увеличение показателя максимус на 14й день, так что исключаем эти данные."
   ]
  },
  {
   "cell_type": "code",
   "execution_count": null,
   "metadata": {
    "id": "2iWqCZQClYWn"
   },
   "outputs": [],
   "source": [
    "# исключаем не соответствующие данные\n",
    "df_test = df_test.query('lifetime <=14')"
   ]
  },
  {
   "cell_type": "code",
   "execution_count": null,
   "metadata": {
    "colab": {
     "base_uri": "https://localhost:8080/"
    },
    "executionInfo": {
     "elapsed": 17,
     "status": "ok",
     "timestamp": 1679910043750,
     "user": {
      "displayName": "Liubov Zhulina",
      "userId": "12186326598138178215"
     },
     "user_tz": -180
    },
    "id": "NB-jzJxxlYWn",
    "outputId": "888b1f2d-090f-4258-a489-18576aa121c9"
   },
   "outputs": [],
   "source": [
    "# итоговое количество пользователей\n",
    "df_test_a = df_test.query('group == \"A\"')\n",
    "df_test_b = df_test.query('group == \"B\"')\n",
    "\n",
    "print(f'Итоговое количество пользователей Евросоюза, участвующих в тесте составляет {df_test[\"user_id\"].nunique()} '\n",
    "      f'пользователей, совершивших хотя бы одно действие, '\n",
    "      f'составляет {round(df_test[\"user_id\"].nunique()*100/audit_eu_test[\"user_id\"].nunique(),2)}% '\n",
    "      f'от европейских пользователей, заявленных в тест.'\n",
    ")\n",
    "print()     \n",
    "print(f'К группе \"А\" относится {df_test_a[\"user_id\"].nunique()} пользователей, что составляет '\n",
    "      f'{round(df_test_a[\"user_id\"].nunique()*100/df_test[\"user_id\"].nunique(),2)}% '\n",
    "      f'от участников теста, совершивших хотя бы одно действие.'\n",
    ")\n",
    "print()     \n",
    "print(f'К группе \"B\" относится {df_test_b[\"user_id\"].nunique()} пользователей, что составляет '\n",
    "      f'{round(df_test_b[\"user_id\"].nunique()*100/df_test[\"user_id\"].nunique(),2)}% '\n",
    "      f'от участников теста, совершивших хотя бы одно действие.' \n",
    ") "
   ]
  },
  {
   "cell_type": "markdown",
   "metadata": {
    "id": "LiWg6l4dlYWo"
   },
   "source": [
    "#### Вывод по данным для теста"
   ]
  },
  {
   "cell_type": "markdown",
   "metadata": {
    "id": "SWbDBvF5lYWo"
   },
   "source": [
    "Зарегестрировано 61 733 новых пользователя, из них у исследуемом тесте участвует 6 701 человек или 10.85%. Из региона EU зарегестрировалось 42 340 пользователей, из них 6 351 участвует в тесте, что соответствует 15% и требованиям ТЗ.\n",
    "\n",
    "Количество пользователей между группами теста распределено не равномерно, к группе \"А\" отнесено на 15% больше пользователей.\n",
    "\n",
    "Динамика регистраций новых пользователей по группам не отличается.\n",
    "\n",
    "Параллельно в нашим тестом проводится еще один, на изменение интерфейса и направлен на аудиторию Евросоюза. Данных по второму тесту нет, но в нем принимает участие 1602 пользователя нашего теста. Участники двух тестов равномерно распределены в группах параллельного теста, а в нашем с небольшим преимуществом в группе \"А\" (57.5%). Группы параллельных тестов перемешаны, таким образом пользователи группы \"В\" второго теста составляют 44% группы \"В\" исследуемого теста.\n",
    "\n",
    "Участников теста, совершивших хотя бы одно действие за 14 дней, равно 3481 пользователь, в группе \"А\" 75%, в группе \"В\" 25%."
   ]
  },
  {
   "cell_type": "markdown",
   "metadata": {
    "id": "EMHP4toTlYWo"
   },
   "source": [
    "### Шаг 3. Исследовательский анализ данных"
   ]
  },
  {
   "cell_type": "markdown",
   "metadata": {
    "id": "DJ--DIKNlYWo"
   },
   "source": [
    "#### Характеристика событий"
   ]
  },
  {
   "cell_type": "code",
   "execution_count": null,
   "metadata": {
    "colab": {
     "base_uri": "https://localhost:8080/",
     "height": 300
    },
    "executionInfo": {
     "elapsed": 15,
     "status": "ok",
     "timestamp": 1679910043751,
     "user": {
      "displayName": "Liubov Zhulina",
      "userId": "12186326598138178215"
     },
     "user_tz": -180
    },
    "id": "YdYSSS5clYWp",
    "outputId": "9fc4f660-3d97-4227-c606-b4694ec4b4ad"
   },
   "outputs": [],
   "source": [
    "df_user = df_test.groupby('user_id').agg({'event_name':'count'})\n",
    "df_user.describe()"
   ]
  },
  {
   "cell_type": "markdown",
   "metadata": {
    "id": "1qgErXNBlYWp"
   },
   "source": [
    "* Количество подльзователей, совершивших хотя бы одно действие, 3481;\n",
    "* Среднее количество событий на одного пользователя: 6-7;\n",
    "* Медианное количество событий на одного пользователя: 6;\n",
    "* Минимальное количество событий на одного пользователя: 1;\n",
    "* Максимальное количество событий на одного пользователя: 28;\n",
    "* Количество пользователей, совершаваших действия в приложении более 9 раз: 25%.\n",
    "\n",
    "Медиана и среднее отличаются практически равны, но учитывая значение максимального числа событий, пользователей совершивших большие количество событий немного, иначе среднее было бы значительно больше. Для полной картины пользователей можно определить 95 и 99 перцентили количества событий."
   ]
  },
  {
   "cell_type": "code",
   "execution_count": null,
   "metadata": {
    "colab": {
     "base_uri": "https://localhost:8080/"
    },
    "executionInfo": {
     "elapsed": 14,
     "status": "ok",
     "timestamp": 1679910043751,
     "user": {
      "displayName": "Liubov Zhulina",
      "userId": "12186326598138178215"
     },
     "user_tz": -180
    },
    "id": "-yOTShh4lYWp",
    "outputId": "6c64e778-1774-4eca-ff10-613f38004369"
   },
   "outputs": [],
   "source": [
    "np.percentile(df_user['event_name'], [95, 99])"
   ]
  },
  {
   "cell_type": "markdown",
   "metadata": {
    "id": "0tOY00HalYWp"
   },
   "source": [
    "Таким образом, пользователей совершивших действия более 15 раз - 5% от общего числа, а более 20 раз - 1%."
   ]
  },
  {
   "cell_type": "code",
   "execution_count": null,
   "metadata": {
    "colab": {
     "base_uri": "https://localhost:8080/",
     "height": 175
    },
    "executionInfo": {
     "elapsed": 10,
     "status": "ok",
     "timestamp": 1679910043751,
     "user": {
      "displayName": "Liubov Zhulina",
      "userId": "12186326598138178215"
     },
     "user_tz": -180
    },
    "id": "klwTFjvclYWp",
    "outputId": "d36a0a1b-291c-4f77-de85-0ca2c33620d4"
   },
   "outputs": [],
   "source": [
    "# определим количество каждого события\n",
    "df_event = df_test.groupby('event_name')['user_id'].agg({'count', 'nunique'}).sort_values(by='count',  ascending = False).reset_index()\n",
    "df_event['ratio_id'] = round(df_event['nunique']/df_test[\"user_id\"].nunique()*100, 2)\n",
    "df_event"
   ]
  },
  {
   "cell_type": "markdown",
   "metadata": {
    "id": "UtC5eZnDlYWp"
   },
   "source": [
    "Пользователи могут совершать несколько событий:\n",
    "- вход/ввод логина — `login`,\n",
    "- просмотр карточек товаров — событие `product_page`,\n",
    "- просмотры корзины — `product_cart`,\n",
    "- покупка — `purchase`.\n",
    "\n",
    "Все уникальные пользователи, совершившие хотя бы одно действие, прошли через ввод логина. 62% пользователей перешло на страницу товара. Дальше идет несоответствие количества событий логичной последовательности шагов воронки, т.к. совершение покупки составляет 31% от всех пользователей, а просмотр корзины меньше, 29%. Соответственно мы имеем либо путь, с которого пользователь попадает может купуть товар в один клик, либо ошибка сбора данных. \n",
    "\n",
    "Большое количество пользователей теряется после регистрации, возможно проблемы со входом."
   ]
  },
  {
   "cell_type": "markdown",
   "metadata": {
    "id": "QlDRYk1plYWq"
   },
   "source": [
    "#### Распределение количество событий на пользователя в выборках"
   ]
  },
  {
   "cell_type": "code",
   "execution_count": null,
   "metadata": {
    "id": "Ku4sTH2mlYWq"
   },
   "outputs": [],
   "source": [
    "# подготавливаем таблицу сгруппированную по дням и группе теста с расчетом событий\n",
    "user_event = df_test.groupby(['group','user_id']).agg({'event_name':'count'}).reset_index()"
   ]
  },
  {
   "cell_type": "code",
   "execution_count": null,
   "metadata": {
    "colab": {
     "base_uri": "https://localhost:8080/",
     "height": 404
    },
    "executionInfo": {
     "elapsed": 1088,
     "status": "ok",
     "timestamp": 1679910044830,
     "user": {
      "displayName": "Liubov Zhulina",
      "userId": "12186326598138178215"
     },
     "user_tz": -180
    },
    "id": "yWcQbuyKlYWq",
    "outputId": "37af81aa-f3dc-4080-a14e-b7343ad035fa"
   },
   "outputs": [],
   "source": [
    "# задаём размер сетки для графиков\n",
    "plt.figure(figsize=(20, 6))\n",
    "\n",
    "# в таблице графиков —  одна строка и два столбца, две ячейки\n",
    "# в первой строим диаграмму размаха общей продолжительности звонков с учетом времени ожидания\n",
    "ax1 = plt.subplot(1, 2, 1)\n",
    "(user_event.query('group == \"A\"')['event_name']).hist(bins=30)\n",
    "plt.xlabel('Количество событий')\n",
    "plt.title('Гистограмма распределения количества событий по тестовой группе \"А\"')\n",
    "\n",
    "# во второй ячейке гистограмму распределения общей продолжительности звонков с учетом времени ожидания\n",
    "ax2 = plt.subplot(1, 2, 2, sharey=ax1)\n",
    "(user_event.query('group == \"B\"')['event_name']).hist(bins=30)\n",
    "plt.xlabel('Количество событий')\n",
    "plt.title('Гистограмма распределения количества событий по тестовой группе \"В\"')\n",
    "\n",
    "plt.show()"
   ]
  },
  {
   "cell_type": "code",
   "execution_count": null,
   "metadata": {
    "colab": {
     "base_uri": "https://localhost:8080/",
     "height": 112
    },
    "executionInfo": {
     "elapsed": 24,
     "status": "ok",
     "timestamp": 1679910044831,
     "user": {
      "displayName": "Liubov Zhulina",
      "userId": "12186326598138178215"
     },
     "user_tz": -180
    },
    "id": "MKGMXIdglYWq",
    "outputId": "05d90dd3-6d30-4c72-a25f-35b5563b0a3d"
   },
   "outputs": [],
   "source": [
    "user_event.groupby('group').agg({'event_name':'mean'}).reset_index()"
   ]
  },
  {
   "cell_type": "markdown",
   "metadata": {
    "id": "ATXUS2CGlYWq"
   },
   "source": [
    "Количество событий на пользователя в группе \"В\" меньше, чем у пользователей группы \"А\", так в первой клиенты редко совершают больше 12 действий, во втором случае больший процент пользователей совершает 15 количество событий и больше. При этом среднее количество событий на пользователя в группах незначительно отличается."
   ]
  },
  {
   "cell_type": "code",
   "execution_count": null,
   "metadata": {
    "colab": {
     "base_uri": "https://localhost:8080/",
     "height": 585
    },
    "executionInfo": {
     "elapsed": 2092,
     "status": "ok",
     "timestamp": 1679921047118,
     "user": {
      "displayName": "Liubov Zhulina",
      "userId": "12186326598138178215"
     },
     "user_tz": -180
    },
    "id": "Tahk1B3KE1q5",
    "outputId": "2d0c08b5-a1a8-4714-f6e1-2f27d2dba00e"
   },
   "outputs": [],
   "source": [
    "# подготовим таблицу для изучения распределения события по группам\n",
    "df_test_group_event = df_test.groupby(['group', 'event_name']).agg({'user_id':'count'}).reset_index()\n",
    "\n",
    "# строим столбчатую диаграмму \n",
    "labels = list(df_test_group_event['event_name'].unique())\n",
    "one = list(df_test_group_event.query('group==\"A\"')['user_id'])\n",
    "two = list(df_test_group_event.query('group==\"B\"')['user_id']) \n",
    "\n",
    "x = np.arange(len(labels))  # положение подписи \n",
    "width = 0.6  # ширина столбца\n",
    "\n",
    "fig, ax = plt.subplots(figsize=(15,8))\n",
    "rects1 = ax.bar(x - width/4, one, width/2, label='A', color='lightsteelblue')\n",
    "rects2 = ax.bar(x + width/4, two, width/2, label='B', color='cornflowerblue')\n",
    "\n",
    "# подписи для оси х и расположение подписи\n",
    "ax.set_xlabel('Наименование события')\n",
    "ax.set_ylabel('Количество событий в группе')\n",
    "ax.set_title('Распределение событий по выборкам', fontsize=15)\n",
    "ax.set_xticks(x)\n",
    "ax.set_xticklabels(labels)\n",
    "ax.legend()\n",
    "\n",
    "\n",
    "def autolabel(rects):\n",
    "    \"\"\"расположение подписи над каждым баром\"\"\"\n",
    "    for rect in rects:\n",
    "        height = rect.get_height()\n",
    "        ax.annotate('{}'.format(height),\n",
    "                    xy=(rect.get_x() + rect.get_width() /2, height),\n",
    "                    xytext=(0, 3),  # расстояние подписи над баром\n",
    "                    textcoords=\"offset points\",\n",
    "                    ha='center', va='bottom')\n",
    "\n",
    "autolabel(rects1)\n",
    "autolabel(rects2)\n",
    "\n",
    "fig.tight_layout()\n",
    "\n",
    "plt.show()"
   ]
  },
  {
   "cell_type": "markdown",
   "metadata": {
    "id": "bRMlLhCRlYWr"
   },
   "source": [
    "Количество событий на группу \"В\" приходится значительно меньше, во всех типах события пользователи группы \"А\" совершают в несколько раз больше действий."
   ]
  },
  {
   "cell_type": "code",
   "execution_count": null,
   "metadata": {
    "colab": {
     "base_uri": "https://localhost:8080/",
     "height": 501
    },
    "executionInfo": {
     "elapsed": 247,
     "status": "ok",
     "timestamp": 1679922253799,
     "user": {
      "displayName": "Liubov Zhulina",
      "userId": "12186326598138178215"
     },
     "user_tz": -180
    },
    "id": "H0GQWy1aHIlI",
    "outputId": "11aaabbf-01ee-4373-cae6-13e44190f8b3"
   },
   "outputs": [],
   "source": [
    "# формируем таблицу по группам теста и посчитаем количество уникальных клиентов, не совершивших действий\n",
    "audit_no_event = (\n",
    "    audit_eu_test.query('user_id not in @df_test.user_id')\n",
    "    .merge(final_ab_participants.query('ab_test == \"recommender_system_test\"'), on='user_id', how='left')\n",
    "    )\n",
    "\n",
    "audit_no_event_ab = audit_no_event.groupby('group').agg({'user_id':'nunique'}).reset_index()\n",
    "\n",
    "# строим круговую диаграмму \n",
    "plt.figure(figsize=(15,8))\n",
    "colors = sns.color_palette('pastel')\n",
    "plt.pie(audit_no_event_ab['user_id'], colors = colors, pctdistance=0.8, radius=1, autopct = '%0.0f%%')\n",
    "plt.title('Распределение количества пользователей не совершивших действий по группам' + \"\\n\", fontsize=15)\n",
    "plt.legend(audit_no_event_ab['group'])\n",
    "plt.show()"
   ]
  },
  {
   "cell_type": "code",
   "execution_count": null,
   "metadata": {
    "colab": {
     "base_uri": "https://localhost:8080/",
     "height": 551
    },
    "executionInfo": {
     "elapsed": 660,
     "status": "ok",
     "timestamp": 1679922417200,
     "user": {
      "displayName": "Liubov Zhulina",
      "userId": "12186326598138178215"
     },
     "user_tz": -180
    },
    "id": "aAm7gwPaJ3WZ",
    "outputId": "a89d0685-f97d-49b2-8793-7427f992ae29"
   },
   "outputs": [],
   "source": [
    "audit_no_event_day = audit_no_event.groupby(['first_date', 'group']).agg({'user_id':'nunique'}).reset_index()\n",
    "\n",
    "# строим линейный график изменения количества количества событий по дням\n",
    "plt.figure(figsize=(15,8))\n",
    "sns.lineplot(data=audit_no_event_day, x='first_date', y='user_id', hue='group')\n",
    "plt.grid()\n",
    "plt.xlabel('Дата статистики')\n",
    "plt.ylabel('Количество неактивных пользователей')\n",
    "plt.title('Изменение количества регистраций новых пользователей,' + \"\\n\" \n",
    "          + 'не совершавших действия, по дням в разбивке по группам' + \"\\n\", fontsize=15)\n",
    "plt.show()"
   ]
  },
  {
   "cell_type": "code",
   "execution_count": null,
   "metadata": {
    "colab": {
     "base_uri": "https://localhost:8080/",
     "height": 175
    },
    "executionInfo": {
     "elapsed": 9,
     "status": "ok",
     "timestamp": 1679910045139,
     "user": {
      "displayName": "Liubov Zhulina",
      "userId": "12186326598138178215"
     },
     "user_tz": -180
    },
    "id": "zxD4Hc3elYWr",
    "outputId": "cf2a6bcc-6a08-438b-d9ad-94acef3a45f0"
   },
   "outputs": [],
   "source": [
    "audit_no_event.query('group == \"B\"').groupby('device').agg({'user_id':'nunique'}).reset_index()"
   ]
  },
  {
   "cell_type": "markdown",
   "metadata": {
    "id": "e2FRi7EWlYWr"
   },
   "source": [
    "Большая часть пользователей, не совершивших действий, относится к группе \"В\". Может ли это быть связано с изменениями в системе рекомендаций, либо с техническими ошибками сказать сложно. В динамике регистраций, такие пользователи приходили до 13 декабря в обе группы, после попадали только в группу \"В\". Осебенностей в устройством входа также не обнаружено, неактивные пользователи регестрировались с разных устройств."
   ]
  },
  {
   "cell_type": "markdown",
   "metadata": {
    "id": "p5rptL-DlYWs"
   },
   "source": [
    "#### Распределение событий по дням"
   ]
  },
  {
   "cell_type": "code",
   "execution_count": null,
   "metadata": {
    "colab": {
     "base_uri": "https://localhost:8080/",
     "height": 516
    },
    "executionInfo": {
     "elapsed": 551,
     "status": "ok",
     "timestamp": 1679922617066,
     "user": {
      "displayName": "Liubov Zhulina",
      "userId": "12186326598138178215"
     },
     "user_tz": -180
    },
    "id": "mEghRiTWlYWs",
    "outputId": "c5c5641f-6700-4e80-cbe7-ff683b582746"
   },
   "outputs": [],
   "source": [
    "# подготавливаем таблицу сгруппированную по дням и группе теста с расчетом событий\n",
    "test_day = df_test.groupby(['day', 'group']).agg({'event_name':'count'}).reset_index()\n",
    "\n",
    "# строим линейный график изменения количества количества событий по дням\n",
    "plt.figure(figsize=(15,8))\n",
    "sns.lineplot(data=test_day, x='day', y='event_name', hue='group')\n",
    "plt.grid()\n",
    "plt.xlabel('Дата статистики')\n",
    "plt.ylabel('Количество событий')\n",
    "plt.title('Изменение количества событий по дням в разбивке по группам', fontsize=15)\n",
    "plt.show()"
   ]
  },
  {
   "cell_type": "markdown",
   "metadata": {
    "id": "mIlld9YAlYWt"
   },
   "source": [
    "Изначально особых различий по группам не было, но начиная с 13 декабря пользователи группы \"А\" резко повышают активность, сохраняя и увеличивая ее до 21 декабря. Затем резкий спад, и окончание полной активности, что подозрительно. Пользователи группы \"В\" показывают достаточно низкую активность, есть небольшие пики 9, 16 и 21 декабря, после постепенное снижение. \n",
    "\n",
    "При этом помним, что 25 декабря запускалась маркетинговая компания, посвященнов рождественским событиям, но какой-либо положительной динамике по событиям не наблюдается.\n",
    "\n",
    "Проведя параллели с динамикой регистраций новых пользователей из исследовательского анализа с 11 по 14 декабря росло количество пользователей, также с 16 по 21 декабря повышение количества регистраций, что и отображается на графике количества событий."
   ]
  },
  {
   "cell_type": "markdown",
   "metadata": {
    "id": "JJF5g2t5lYWt"
   },
   "source": [
    "#### Конверсия в воронке в выборках на разных этапах"
   ]
  },
  {
   "cell_type": "code",
   "execution_count": null,
   "metadata": {
    "id": "AjKCvXHtlYWt"
   },
   "outputs": [],
   "source": [
    "# соберем таблицы для каждой группы с группировкой пользователей по событиям для визуализации воронки\n",
    "# группа \"A\"\n",
    "df_group_a = (\n",
    "    df_test.query('group == \"A\"')\n",
    "    .groupby('event_name').agg({'user_id':'nunique'})\n",
    "    .sort_values(by='user_id', ascending=False).reset_index())\n",
    "df_group_a.columns = ['event_name', 'A']\n",
    "df_group_a = df_group_a.reindex([0, 1, 3, 2])\n",
    "df_group_a['conv_a'] = df_group_a['A'].shift()\n",
    "df_group_a['conv_a'] = df_group_a['conv_a'].fillna (df_group_a['conv_a'].max())\n",
    "df_group_a['conv_a'] = round(df_group_a['A']/df_group_a['conv_a']*100, 2)\n",
    "df_group_a = round(df_group_a.assign(conv_a_by_first = lambda x: x['A']/x['A'].max()*100), 2)\n",
    "\n",
    "# группа \"B\"\n",
    "df_group_b = (\n",
    "    df_test.query('group == \"B\"')\n",
    "    .groupby('event_name').agg({'user_id':'nunique'})\n",
    "    .sort_values(by='user_id', ascending=False).reset_index())\n",
    "df_group_b.columns = ['event_name', 'B']\n",
    "df_group_b = df_group_b.reindex([0, 1, 3, 2])\n",
    "df_group_b['conv_b'] = df_group_b['B'].shift() #считаем конверсию группы \"B\"\n",
    "df_group_b['conv_b'] = df_group_b['conv_b'].fillna(df_group_b['conv_b'].max())\n",
    "df_group_b['conv_b'] = round(df_group_b['B']/df_group_b['conv_b']*100, 2)\n",
    "df_group_b = round(df_group_b.assign(conv_b_by_first = lambda x: x['B']/x['B'].max()*100), 2)\n",
    "\n",
    "df_group = (\n",
    "    df_group_a.merge(\n",
    "    df_group_b, on='event_name', how='left')\n",
    ")"
   ]
  },
  {
   "cell_type": "code",
   "execution_count": null,
   "metadata": {
    "colab": {
     "base_uri": "https://localhost:8080/",
     "height": 175
    },
    "executionInfo": {
     "elapsed": 11,
     "status": "ok",
     "timestamp": 1679910045522,
     "user": {
      "displayName": "Liubov Zhulina",
      "userId": "12186326598138178215"
     },
     "user_tz": -180
    },
    "id": "4Prm-IH0lYWu",
    "outputId": "347925eb-086c-409a-ec8e-34b4c3ea30e0"
   },
   "outputs": [],
   "source": [
    "df_group"
   ]
  },
  {
   "cell_type": "code",
   "execution_count": null,
   "metadata": {
    "colab": {
     "base_uri": "https://localhost:8080/",
     "height": 617
    },
    "executionInfo": {
     "elapsed": 10,
     "status": "ok",
     "timestamp": 1679910045522,
     "user": {
      "displayName": "Liubov Zhulina",
      "userId": "12186326598138178215"
     },
     "user_tz": -180
    },
    "id": "CkU9mGSulYWu",
    "outputId": "b29a286b-f3a5-405b-8779-05408675b8f2"
   },
   "outputs": [],
   "source": [
    "# строим график воронки\n",
    "fig = go.Figure()\n",
    "\n",
    "fig.add_trace(go.Funnel(\n",
    "    name = 'A',\n",
    "    y = df_group['event_name'].tolist(),\n",
    "    x = df_group['A'].tolist(),\n",
    "    textposition = \"inside\",\n",
    "    textinfo = \"value+percent previous+percent initial\"))\n",
    "\n",
    "fig.add_trace(go.Funnel(\n",
    "    name = 'B',\n",
    "    orientation = \"h\",\n",
    "    y = df_group['event_name'].tolist(),\n",
    "    x = df_group['B'].tolist(),\n",
    "    textposition = \"inside\",\n",
    "    textinfo = \"value+percent previous+percent initial\"))\n",
    "\n",
    "fig.update_layout(\n",
    "    title={\n",
    "        'text': \"Воронка событий по группам в долях\",\n",
    "        'y':0.9,\n",
    "        'x':0.5,\n",
    "        'xanchor': 'center',\n",
    "        'yanchor': 'top'},\n",
    "    yaxis_title=\"Последовательные шаги воронки событий\",\n",
    "    width=800, height=600)\n",
    "fig.show()"
   ]
  },
  {
   "cell_type": "markdown",
   "metadata": {
    "id": "5vshgluXlYWu"
   },
   "source": [
    "Воронка представляет собой цепь событий: вход ➡ посещение главной товара ➡ корзина ➡ покупка. \n",
    "\n",
    "Первый шаг включает в себя всех пользователей. \n",
    "Далее теряется более 30% пользователей, и на просмотр товара уже попадает 65% пользователей от группы \"А\" и 56% пользователей от группы \"В\". В корзину уже попадает 46% пользователей группы \"А\" и 49,5% группы \"В\". Делаем вывод о непоследовательной воронки событий, т.к. количество пользователей, оформавших покупку, больше пользователей, прошедших через корзину, и составляет по группе \"А\" 32%, по группе \"В\" 28%."
   ]
  },
  {
   "cell_type": "markdown",
   "metadata": {
    "id": "57GRE4iplYWu"
   },
   "source": [
    "#### Какие особенности данных нужно учесть, прежде чем приступать к A/B-тестированию?"
   ]
  },
  {
   "cell_type": "markdown",
   "metadata": {
    "id": "zkmiOBFllYWu"
   },
   "source": [
    "Критерии успешного теста: \n",
    "- Для всех групп фиксируют и отправляют в системы аналитики данные об одном и том же;\n",
    "- Попавший в одну из групп посетитель остаётся в этой группе до конца теста. \n",
    "- Если пользователь видит разные версии исследуемой страницы в ходе одного исследования, неизвестно, какая именно повлияла на его решения. Значит, и результаты такого теста нельзя интерпретировать однозначно;\n",
    "- Следует подготовить данные в соответствием с ТЗ;\n",
    "- Предусмотреть время проведение теста, сочетание и возможное влияние маркетинговых событий."
   ]
  },
  {
   "cell_type": "markdown",
   "metadata": {
    "id": "nob5aJhOlYWu"
   },
   "source": [
    "### Шаг 4. Анализ результатов теста\n"
   ]
  },
  {
   "cell_type": "markdown",
   "metadata": {
    "id": "n4gi7-MAlYWv"
   },
   "source": [
    "#### Что можно сказать про результаты A/В-тестирования?"
   ]
  },
  {
   "cell_type": "markdown",
   "metadata": {
    "id": "KWE6dTTdlYWv"
   },
   "source": [
    "Количество участников теста, соверающих действия не соответствует требованиям задания. \n",
    "\n",
    "Распредение участников на группы также не равномерно, группа \"А\" по размеру в несколько раз превышает группы \"В\". \n",
    "\n",
    "Конверсия в группе \"В\" превышает группу \"А\" на переходе от сабытия просмотра какрточки товара к корзине на 3%."
   ]
  },
  {
   "cell_type": "markdown",
   "metadata": {
    "id": "e93Q1f5ElYWv"
   },
   "source": [
    "#### Проверьте статистическую разницу долей z-критерием."
   ]
  },
  {
   "cell_type": "markdown",
   "metadata": {
    "id": "aDE5bh8KlYWv"
   },
   "source": [
    "**Гипотезы**\n",
    " \n",
    " Нулевая гипотеза: различий в долях пользователей, совершивших событие, между группами нет. \n",
    " \n",
    " Альтернативная гипотеза: различия долей по совершению события между группами есть."
   ]
  },
  {
   "cell_type": "markdown",
   "metadata": {
    "id": "F_Z370g-lYWv"
   },
   "source": [
    "Используем статистический критерий для проверки - `z-тест для пропорций`\n"
   ]
  },
  {
   "cell_type": "code",
   "execution_count": null,
   "metadata": {
    "colab": {
     "base_uri": "https://localhost:8080/"
    },
    "executionInfo": {
     "elapsed": 10,
     "status": "ok",
     "timestamp": 1679910045523,
     "user": {
      "displayName": "Liubov Zhulina",
      "userId": "12186326598138178215"
     },
     "user_tz": -180
    },
    "id": "9uwt23SOlYWv",
    "outputId": "ad682bd5-7a04-480c-8da1-bffd33a5c356"
   },
   "outputs": [],
   "source": [
    "# таблица для первой группы\n",
    "df_group1 = (df_test.query('group == \"A\"')\n",
    "                .groupby('event_name').agg({'user_id':'nunique'})\n",
    "                .sort_values(by='user_id', ascending=False).reset_index())\n",
    "    \n",
    "# таблица для второй группы\n",
    "df_group2 = (df_test.query('group ==  \"B\"')\n",
    "                .groupby('event_name').agg({'user_id':'nunique'})\n",
    "                .sort_values(by='user_id', ascending=False).reset_index())\n",
    "\n",
    "# таблица с количеством уникальных пользователей на группу\n",
    "df_group_count = df_test.groupby('group', as_index = False).agg({'user_id': 'nunique'})\n",
    "\n",
    "# уникальные пользователи первой группы    \n",
    "count1 = df_group_count[df_group_count.isin([\"A\"]).any(axis= 1)].reset_index()\n",
    "count1 = count1.loc[0]['user_id']\n",
    "\n",
    "# уникальные пользователи второй группы      \n",
    "count2 = df_group_count[df_group_count.isin([\"B\"]).any(axis= 1)].reset_index()\n",
    "count2 = count2.loc[0]['user_id']\n",
    "\n",
    "for event in df_test['event_name'].unique():\n",
    "    # количество пользователей на событие\n",
    "    x = df_group1[df_group1.isin([event]).any(axis= 1)].reset_index()\n",
    "    x = x.loc[0]['user_id']\n",
    "    \n",
    "    y = df_group2[df_group2.isin([event]).any(axis= 1)].reset_index()\n",
    "    y = y.loc[0]['user_id']\n",
    "\n",
    "    successes = np.array([x, y])\n",
    "    trials = np.array([count1, count2])\n",
    "\n",
    "    # пропорция успехов в первой группе:\n",
    "    p1 = successes[0]/trials[0]\n",
    "\n",
    "    # пропорция успехов во второй группе:\n",
    "    p2 = successes[1]/trials[1]\n",
    "    \n",
    "    print(successes[0], successes[1], trials[0], trials[1])\n",
    "\n",
    "    # пропорция успехов в комбинированном датасете:\n",
    "    p_combined = (successes[0] + successes[1]) / (trials[0] + trials[1])\n",
    "\n",
    "    # разница пропорций в датасетах\n",
    "    difference = p1 - p2 \n",
    "    \n",
    "    # считаем статистику в ст.отклонениях стандартного нормального распределения\n",
    "    z_value = difference / mth.sqrt(p_combined * (1 - p_combined) * (1/trials[0] + 1/trials[1]))\n",
    "\n",
    "    # задаем стандартное нормальное распределение (среднее 0, ст.отклонение 1)\n",
    "    distr = st.norm(0, 1)\n",
    "\n",
    "    # статистический уровнь значимости alpha \n",
    "    # применеие поправки на множественную проверку гипотез - поправку Бонферони\n",
    "    alpha = 0.05/4\n",
    "\n",
    "    p_value = (1 - distr.cdf(abs(z_value)))*2\n",
    "\n",
    "    print('Событие ', event)\n",
    "    print('p-значение: ', p_value)\n",
    "\n",
    "    if p_value < alpha:\n",
    "        print('Отвергаем нулевую гипотезу: между долями есть значимая разница')\n",
    "    else:\n",
    "        print(\n",
    "            'Не получилось отвергнуть нулевую гипотезу, нет оснований считать доли разными'\n",
    "        )    "
   ]
  },
  {
   "cell_type": "markdown",
   "metadata": {
    "id": "LaI4_GlmlYWw"
   },
   "source": [
    "### Общие выводы"
   ]
  },
  {
   "cell_type": "markdown",
   "metadata": {
    "id": "qgumtwVvlYWw"
   },
   "source": [
    "Воронка представляет собой цепь событий: вход ➡ посещение главной товара ➡ корзина ➡ покупка. \n",
    "\n",
    "Все пользователи начинают взаимодействие со входа, но затем более 30% теряется. Поток пользователей с шага на шаг воронки неравномерный, также присутствует не прямой переход с шага на шаг, т.к. количество пользователей, оформивших покупку, больше пользователей, прошедших через корзину, и составляет по группе \"А\" 32%, по группе \"В\" 28%.\n",
    "\n",
    "Проверка гипотезы о равенстве долей показала, что между группами теста - \"А\" и \"В\"  нет статистически значимых различий по всем событиям, кроме просмотра корзины. На просмотр корзины в группе \"В\" конверсия на 3% больше, чем в группе \"А\".\n",
    "\n",
    "В данном случае, полагалось бы сделать вывод о том, что новая система рекомендаций не повлияла на действия пользователя, т.к. повышение метрик на 10% не наблюдается ни по одному из событий. \n",
    "\n",
    "Однако, следует учитывать комплекс проблем, связанных с проведением теста:\n",
    "\n",
    "1. Аудитория теста\n",
    "\n",
    "Обнаружено 45% неактивных пользователей от европейских участников теста, большая часть которых относится к группе \"В\", что значительно изменило распределение пользователей по тестовым группам в пользу группы \"А\". Регистрация неактивных пользователей выполнялась весь период набора в тестовые группы, с устройством входа нет аномальных результатов, следует проверить на факт наличия технических ошибок в логировании таких пользователей.\n",
    "\n",
    "Итого, в результате произошло сокращение выборок. \n",
    "\n",
    "Часть пользователей участвует в параллельном тесте, к тому же пользователи группы \"В\" являются участниками группы \"В\" другого теста.\n",
    "\n",
    "2. Время проведения теста\n",
    "\n",
    "Время теста определено было на конец года, а новогодние праздники характеризуются повышенной активностью. Но даже этот факт не отражен в динамике активности пользователей.\n",
    "\n",
    "Также вся активность прекращена 30 декабря, за 5 дней до окончания теста, что не характерно для обычного поведения пользователей, также следует проверить на технические ошибки либо со стороны взаимодействия пользователя с платформой либо в сборе данных.\n",
    "\n",
    "3. Увеличесние бизнес-метрик на 10%\n",
    "\n",
    "Увеличение конверсии в группе \"В\" относительно группы \"А\" замечено только на шаге перехода к корзине, в остальных событиях меньше.\n",
    "\n",
    "4. Результаты теста\n",
    "\n",
    "Статистическая разница обнаружена только на событии перехода пользователя в корзину. В остальном между выборками нет различий. Также следует учитывать, что размер выборок уменьшился, что могло повлиять на фиксацию различий.\n",
    "\n",
    "Принято решение не доверять результатам теста, исследовать возникающие проблемы во взаимодейтвие пользователей с ситемой, при устранении технических проблем и учете сезонности повторить проведение теста."
   ]
  }
 ],
 "metadata": {
  "ExecuteTimeLog": [
   {
    "duration": 1480,
    "start_time": "2023-02-03T19:03:51.128Z"
   },
   {
    "duration": 1168,
    "start_time": "2023-02-03T19:03:58.353Z"
   },
   {
    "duration": 14,
    "start_time": "2023-02-03T19:04:28.385Z"
   },
   {
    "duration": 70,
    "start_time": "2023-02-03T19:04:35.616Z"
   },
   {
    "duration": 9,
    "start_time": "2023-02-03T19:04:40.633Z"
   },
   {
    "duration": 13,
    "start_time": "2023-02-03T19:04:45.546Z"
   },
   {
    "duration": 9,
    "start_time": "2023-02-03T19:04:51.236Z"
   },
   {
    "duration": 20,
    "start_time": "2023-02-03T19:04:56.944Z"
   },
   {
    "duration": 11,
    "start_time": "2023-02-03T19:05:02.253Z"
   },
   {
    "duration": 15,
    "start_time": "2023-02-03T19:05:07.921Z"
   },
   {
    "duration": 61,
    "start_time": "2023-02-03T19:05:34.251Z"
   },
   {
    "duration": 24,
    "start_time": "2023-02-03T19:05:47.425Z"
   },
   {
    "duration": 23,
    "start_time": "2023-02-03T19:07:07.312Z"
   },
   {
    "duration": 36,
    "start_time": "2023-02-03T19:07:14.727Z"
   },
   {
    "duration": 30,
    "start_time": "2023-02-03T19:07:20.923Z"
   },
   {
    "duration": 69,
    "start_time": "2023-02-03T19:09:11.824Z"
   },
   {
    "duration": 5,
    "start_time": "2023-02-03T19:09:28.488Z"
   },
   {
    "duration": 15,
    "start_time": "2023-02-03T19:09:33.501Z"
   },
   {
    "duration": 8,
    "start_time": "2023-02-03T19:09:38.557Z"
   },
   {
    "duration": 106,
    "start_time": "2023-02-03T19:10:06.554Z"
   },
   {
    "duration": 4,
    "start_time": "2023-02-03T19:10:16.597Z"
   },
   {
    "duration": 13,
    "start_time": "2023-02-03T19:10:22.233Z"
   },
   {
    "duration": 230,
    "start_time": "2023-02-03T19:10:45.030Z"
   },
   {
    "duration": 6,
    "start_time": "2023-02-03T19:10:49.601Z"
   },
   {
    "duration": 35,
    "start_time": "2023-02-03T19:10:54.090Z"
   },
   {
    "duration": 11,
    "start_time": "2023-02-03T19:10:58.593Z"
   },
   {
    "duration": 65,
    "start_time": "2023-02-03T19:11:04.025Z"
   },
   {
    "duration": 22,
    "start_time": "2023-02-03T19:12:20.399Z"
   },
   {
    "duration": 71,
    "start_time": "2023-02-03T19:12:26.747Z"
   },
   {
    "duration": 72,
    "start_time": "2023-02-03T19:12:33.970Z"
   },
   {
    "duration": 16,
    "start_time": "2023-02-03T19:12:45.061Z"
   },
   {
    "duration": 12,
    "start_time": "2023-02-03T19:13:03.232Z"
   },
   {
    "duration": 84,
    "start_time": "2023-02-03T19:13:48.447Z"
   },
   {
    "duration": 11,
    "start_time": "2023-02-03T19:14:15.520Z"
   },
   {
    "duration": 20,
    "start_time": "2023-02-03T19:15:25.562Z"
   },
   {
    "duration": 5,
    "start_time": "2023-02-03T19:15:57.398Z"
   },
   {
    "duration": 39,
    "start_time": "2023-02-03T19:16:13.200Z"
   },
   {
    "duration": 50,
    "start_time": "2023-02-03T19:16:25.953Z"
   },
   {
    "duration": 407,
    "start_time": "2023-02-03T19:16:43.378Z"
   },
   {
    "duration": 39,
    "start_time": "2023-02-03T19:17:17.337Z"
   },
   {
    "duration": 113,
    "start_time": "2023-02-03T19:17:31.801Z"
   },
   {
    "duration": 9,
    "start_time": "2023-02-03T19:19:00.569Z"
   },
   {
    "duration": 8,
    "start_time": "2023-02-03T19:19:06.453Z"
   },
   {
    "duration": 7,
    "start_time": "2023-02-03T19:19:21.253Z"
   },
   {
    "duration": 2,
    "start_time": "2023-02-03T19:19:32.131Z"
   },
   {
    "duration": 23,
    "start_time": "2023-02-03T19:19:50.198Z"
   },
   {
    "duration": 5,
    "start_time": "2023-02-03T19:20:15.944Z"
   },
   {
    "duration": 69,
    "start_time": "2023-02-03T19:20:21.392Z"
   },
   {
    "duration": 27,
    "start_time": "2023-02-03T19:20:45.663Z"
   },
   {
    "duration": 23,
    "start_time": "2023-02-03T19:21:17.568Z"
   },
   {
    "duration": 358,
    "start_time": "2023-02-03T19:21:27.722Z"
   },
   {
    "duration": 105,
    "start_time": "2023-02-03T19:21:46.685Z"
   },
   {
    "duration": 43,
    "start_time": "2023-02-03T19:22:13.289Z"
   },
   {
    "duration": 76,
    "start_time": "2023-02-03T19:23:18.680Z"
   },
   {
    "duration": 24,
    "start_time": "2023-02-03T19:23:56.498Z"
   },
   {
    "duration": 25,
    "start_time": "2023-02-03T19:25:21.923Z"
   },
   {
    "duration": 40,
    "start_time": "2023-02-03T19:25:39.589Z"
   },
   {
    "duration": 10,
    "start_time": "2023-02-03T19:25:46.777Z"
   },
   {
    "duration": 21,
    "start_time": "2023-02-03T19:25:55.540Z"
   },
   {
    "duration": 67,
    "start_time": "2023-02-03T19:27:04.291Z"
   },
   {
    "duration": 59,
    "start_time": "2023-02-03T19:27:46.944Z"
   },
   {
    "duration": 1229,
    "start_time": "2023-02-03T23:22:06.921Z"
   },
   {
    "duration": 1495,
    "start_time": "2023-02-03T23:22:08.152Z"
   },
   {
    "duration": 12,
    "start_time": "2023-02-03T23:22:09.649Z"
   },
   {
    "duration": 65,
    "start_time": "2023-02-03T23:22:09.663Z"
   },
   {
    "duration": 8,
    "start_time": "2023-02-03T23:22:09.729Z"
   },
   {
    "duration": 12,
    "start_time": "2023-02-03T23:22:09.738Z"
   },
   {
    "duration": 12,
    "start_time": "2023-02-03T23:22:09.752Z"
   },
   {
    "duration": 21,
    "start_time": "2023-02-03T23:22:09.766Z"
   },
   {
    "duration": 39,
    "start_time": "2023-02-03T23:22:09.788Z"
   },
   {
    "duration": 48,
    "start_time": "2023-02-03T23:22:09.830Z"
   },
   {
    "duration": 79,
    "start_time": "2023-02-03T23:22:09.880Z"
   },
   {
    "duration": 25,
    "start_time": "2023-02-03T23:22:09.961Z"
   },
   {
    "duration": 73,
    "start_time": "2023-02-03T23:22:09.988Z"
   },
   {
    "duration": 6,
    "start_time": "2023-02-03T23:22:10.063Z"
   },
   {
    "duration": 43,
    "start_time": "2023-02-03T23:22:10.070Z"
   },
   {
    "duration": 30,
    "start_time": "2023-02-03T23:22:10.115Z"
   },
   {
    "duration": 121,
    "start_time": "2023-02-03T23:22:10.147Z"
   },
   {
    "duration": 5,
    "start_time": "2023-02-03T23:22:10.270Z"
   },
   {
    "duration": 19,
    "start_time": "2023-02-03T23:22:10.277Z"
   },
   {
    "duration": 208,
    "start_time": "2023-02-03T23:22:10.297Z"
   },
   {
    "duration": 6,
    "start_time": "2023-02-03T23:22:10.507Z"
   },
   {
    "duration": 30,
    "start_time": "2023-02-03T23:22:10.520Z"
   },
   {
    "duration": 10,
    "start_time": "2023-02-03T23:22:10.551Z"
   },
   {
    "duration": 22,
    "start_time": "2023-02-03T23:22:10.562Z"
   },
   {
    "duration": 99,
    "start_time": "2023-02-03T23:22:10.586Z"
   },
   {
    "duration": 13,
    "start_time": "2023-02-03T23:22:10.686Z"
   },
   {
    "duration": 102,
    "start_time": "2023-02-03T23:22:10.701Z"
   },
   {
    "duration": 20,
    "start_time": "2023-02-03T23:22:10.807Z"
   },
   {
    "duration": 32,
    "start_time": "2023-02-03T23:22:10.828Z"
   },
   {
    "duration": 5,
    "start_time": "2023-02-03T23:22:10.862Z"
   },
   {
    "duration": 58,
    "start_time": "2023-02-03T23:22:10.869Z"
   },
   {
    "duration": 50,
    "start_time": "2023-02-03T23:22:10.929Z"
   },
   {
    "duration": 600,
    "start_time": "2023-02-03T23:22:10.981Z"
   },
   {
    "duration": 87,
    "start_time": "2023-02-03T23:22:11.583Z"
   },
   {
    "duration": 55,
    "start_time": "2023-02-03T23:22:11.672Z"
   },
   {
    "duration": 8,
    "start_time": "2023-02-03T23:22:11.729Z"
   },
   {
    "duration": 13,
    "start_time": "2023-02-03T23:22:11.739Z"
   },
   {
    "duration": 75,
    "start_time": "2023-02-03T23:22:11.755Z"
   },
   {
    "duration": 5,
    "start_time": "2023-02-03T23:22:11.832Z"
   },
   {
    "duration": 29,
    "start_time": "2023-02-03T23:22:11.839Z"
   },
   {
    "duration": 18,
    "start_time": "2023-02-03T23:22:11.869Z"
   },
   {
    "duration": 454,
    "start_time": "2023-02-03T23:22:11.889Z"
   },
   {
    "duration": 41,
    "start_time": "2023-02-03T23:22:12.346Z"
   },
   {
    "duration": 67,
    "start_time": "2023-02-03T23:22:12.389Z"
   },
   {
    "duration": 84,
    "start_time": "2023-02-03T23:22:12.458Z"
   },
   {
    "duration": 40,
    "start_time": "2023-02-03T23:22:12.544Z"
   },
   {
    "duration": 10,
    "start_time": "2023-02-03T23:22:12.586Z"
   },
   {
    "duration": 35,
    "start_time": "2023-02-03T23:22:12.598Z"
   },
   {
    "duration": 60,
    "start_time": "2023-02-03T23:22:12.635Z"
   },
   {
    "duration": 7,
    "start_time": "2023-02-03T23:24:38.958Z"
   },
   {
    "duration": 20,
    "start_time": "2023-02-03T23:24:44.009Z"
   },
   {
    "duration": 12,
    "start_time": "2023-02-03T23:24:49.766Z"
   },
   {
    "duration": 81,
    "start_time": "2023-02-03T23:32:14.512Z"
   },
   {
    "duration": 80,
    "start_time": "2023-02-04T10:38:09.650Z"
   },
   {
    "duration": 1442,
    "start_time": "2023-02-04T10:38:18.431Z"
   },
   {
    "duration": 1901,
    "start_time": "2023-02-04T10:38:19.875Z"
   },
   {
    "duration": 14,
    "start_time": "2023-02-04T10:38:21.778Z"
   },
   {
    "duration": 68,
    "start_time": "2023-02-04T10:38:21.794Z"
   },
   {
    "duration": 9,
    "start_time": "2023-02-04T10:38:21.863Z"
   },
   {
    "duration": 13,
    "start_time": "2023-02-04T10:38:21.873Z"
   },
   {
    "duration": 9,
    "start_time": "2023-02-04T10:38:21.888Z"
   },
   {
    "duration": 19,
    "start_time": "2023-02-04T10:38:21.920Z"
   },
   {
    "duration": 8,
    "start_time": "2023-02-04T10:38:21.940Z"
   },
   {
    "duration": 13,
    "start_time": "2023-02-04T10:38:21.951Z"
   },
   {
    "duration": 77,
    "start_time": "2023-02-04T10:38:21.966Z"
   },
   {
    "duration": 26,
    "start_time": "2023-02-04T10:38:22.045Z"
   },
   {
    "duration": 77,
    "start_time": "2023-02-04T10:38:22.072Z"
   },
   {
    "duration": 6,
    "start_time": "2023-02-04T10:38:22.150Z"
   },
   {
    "duration": 17,
    "start_time": "2023-02-04T10:38:22.158Z"
   },
   {
    "duration": 8,
    "start_time": "2023-02-04T10:38:22.177Z"
   },
   {
    "duration": 118,
    "start_time": "2023-02-04T10:38:22.186Z"
   },
   {
    "duration": 17,
    "start_time": "2023-02-04T10:38:22.306Z"
   },
   {
    "duration": 25,
    "start_time": "2023-02-04T10:38:22.326Z"
   },
   {
    "duration": 204,
    "start_time": "2023-02-04T10:38:22.353Z"
   },
   {
    "duration": 6,
    "start_time": "2023-02-04T10:38:22.559Z"
   },
   {
    "duration": 35,
    "start_time": "2023-02-04T10:38:22.566Z"
   },
   {
    "duration": 25,
    "start_time": "2023-02-04T10:38:22.603Z"
   },
   {
    "duration": 21,
    "start_time": "2023-02-04T10:38:22.630Z"
   },
   {
    "duration": 90,
    "start_time": "2023-02-04T10:38:22.653Z"
   },
   {
    "duration": 14,
    "start_time": "2023-02-04T10:38:22.745Z"
   },
   {
    "duration": 105,
    "start_time": "2023-02-04T10:38:22.760Z"
   },
   {
    "duration": 11,
    "start_time": "2023-02-04T10:38:22.868Z"
   },
   {
    "duration": 25,
    "start_time": "2023-02-04T10:38:22.881Z"
   },
   {
    "duration": 5,
    "start_time": "2023-02-04T10:38:22.921Z"
   },
   {
    "duration": 44,
    "start_time": "2023-02-04T10:38:22.927Z"
   },
   {
    "duration": 73,
    "start_time": "2023-02-04T10:38:22.973Z"
   },
   {
    "duration": 400,
    "start_time": "2023-02-04T10:38:23.048Z"
   },
   {
    "duration": 76,
    "start_time": "2023-02-04T10:38:23.450Z"
   },
   {
    "duration": 8,
    "start_time": "2023-02-04T10:38:23.529Z"
   },
   {
    "duration": 8,
    "start_time": "2023-02-04T10:38:23.538Z"
   },
   {
    "duration": 8,
    "start_time": "2023-02-04T10:38:23.548Z"
   },
   {
    "duration": 78,
    "start_time": "2023-02-04T10:38:23.558Z"
   },
   {
    "duration": 6,
    "start_time": "2023-02-04T10:38:23.638Z"
   },
   {
    "duration": 80,
    "start_time": "2023-02-04T10:38:23.646Z"
   },
   {
    "duration": 18,
    "start_time": "2023-02-04T10:38:23.728Z"
   },
   {
    "duration": 974,
    "start_time": "2023-02-04T10:38:23.748Z"
   },
   {
    "duration": 29,
    "start_time": "2023-02-04T10:38:24.724Z"
   },
   {
    "duration": 169,
    "start_time": "2023-02-04T10:38:24.755Z"
   },
   {
    "duration": 126,
    "start_time": "2023-02-04T10:38:24.926Z"
   },
   {
    "duration": 95,
    "start_time": "2023-02-04T10:38:25.054Z"
   },
   {
    "duration": 10,
    "start_time": "2023-02-04T10:38:25.150Z"
   },
   {
    "duration": 71,
    "start_time": "2023-02-04T10:38:25.162Z"
   },
   {
    "duration": 122,
    "start_time": "2023-02-04T10:38:25.235Z"
   },
   {
    "duration": 6,
    "start_time": "2023-02-04T10:47:50.620Z"
   },
   {
    "duration": 18,
    "start_time": "2023-02-04T10:48:04.528Z"
   },
   {
    "duration": 5,
    "start_time": "2023-02-04T11:15:56.671Z"
   },
   {
    "duration": 4,
    "start_time": "2023-02-04T11:16:10.924Z"
   },
   {
    "duration": 1245,
    "start_time": "2023-02-04T11:16:10.930Z"
   },
   {
    "duration": 9,
    "start_time": "2023-02-04T11:16:12.177Z"
   },
   {
    "duration": 64,
    "start_time": "2023-02-04T11:16:12.188Z"
   },
   {
    "duration": 9,
    "start_time": "2023-02-04T11:16:12.253Z"
   },
   {
    "duration": 13,
    "start_time": "2023-02-04T11:16:12.264Z"
   },
   {
    "duration": 10,
    "start_time": "2023-02-04T11:16:12.279Z"
   },
   {
    "duration": 33,
    "start_time": "2023-02-04T11:16:12.290Z"
   },
   {
    "duration": 9,
    "start_time": "2023-02-04T11:16:12.326Z"
   },
   {
    "duration": 15,
    "start_time": "2023-02-04T11:16:12.336Z"
   },
   {
    "duration": 78,
    "start_time": "2023-02-04T11:16:12.353Z"
   },
   {
    "duration": 29,
    "start_time": "2023-02-04T11:16:12.433Z"
   },
   {
    "duration": 72,
    "start_time": "2023-02-04T11:16:12.464Z"
   },
   {
    "duration": 7,
    "start_time": "2023-02-04T11:16:12.539Z"
   },
   {
    "duration": 18,
    "start_time": "2023-02-04T11:16:12.548Z"
   },
   {
    "duration": 7,
    "start_time": "2023-02-04T11:16:12.569Z"
   },
   {
    "duration": 130,
    "start_time": "2023-02-04T11:16:12.578Z"
   },
   {
    "duration": 10,
    "start_time": "2023-02-04T11:16:12.710Z"
   },
   {
    "duration": 12,
    "start_time": "2023-02-04T11:16:12.722Z"
   },
   {
    "duration": 178,
    "start_time": "2023-02-04T11:16:12.735Z"
   },
   {
    "duration": 9,
    "start_time": "2023-02-04T11:16:12.915Z"
   },
   {
    "duration": 36,
    "start_time": "2023-02-04T11:16:12.925Z"
   },
   {
    "duration": 13,
    "start_time": "2023-02-04T11:16:12.963Z"
   },
   {
    "duration": 6,
    "start_time": "2023-02-04T11:16:12.980Z"
   },
   {
    "duration": 36,
    "start_time": "2023-02-04T11:16:12.988Z"
   },
   {
    "duration": 6,
    "start_time": "2023-02-04T11:16:21.857Z"
   },
   {
    "duration": 44,
    "start_time": "2023-02-04T11:16:51.067Z"
   },
   {
    "duration": 17,
    "start_time": "2023-02-04T11:29:07.707Z"
   },
   {
    "duration": 26,
    "start_time": "2023-02-04T11:29:15.431Z"
   },
   {
    "duration": 24,
    "start_time": "2023-02-04T11:29:35.937Z"
   },
   {
    "duration": 12,
    "start_time": "2023-02-04T11:40:43.690Z"
   },
   {
    "duration": 20,
    "start_time": "2023-02-04T11:40:55.186Z"
   },
   {
    "duration": 18,
    "start_time": "2023-02-04T11:42:28.135Z"
   },
   {
    "duration": 32,
    "start_time": "2023-02-04T11:55:31.544Z"
   },
   {
    "duration": 27,
    "start_time": "2023-02-04T11:56:42.094Z"
   },
   {
    "duration": 42,
    "start_time": "2023-02-04T11:57:39.032Z"
   },
   {
    "duration": 42,
    "start_time": "2023-02-04T11:57:59.286Z"
   },
   {
    "duration": 2196,
    "start_time": "2023-02-04T19:18:22.222Z"
   },
   {
    "duration": 2602,
    "start_time": "2023-02-04T19:18:24.425Z"
   },
   {
    "duration": 26,
    "start_time": "2023-02-04T19:18:27.031Z"
   },
   {
    "duration": 85,
    "start_time": "2023-02-04T19:18:27.060Z"
   },
   {
    "duration": 9,
    "start_time": "2023-02-04T19:18:27.148Z"
   },
   {
    "duration": 14,
    "start_time": "2023-02-04T19:18:27.159Z"
   },
   {
    "duration": 31,
    "start_time": "2023-02-04T19:18:27.175Z"
   },
   {
    "duration": 53,
    "start_time": "2023-02-04T19:18:27.208Z"
   },
   {
    "duration": 11,
    "start_time": "2023-02-04T19:18:27.264Z"
   },
   {
    "duration": 30,
    "start_time": "2023-02-04T19:18:27.279Z"
   },
   {
    "duration": 127,
    "start_time": "2023-02-04T19:18:27.311Z"
   },
   {
    "duration": 46,
    "start_time": "2023-02-04T19:18:27.441Z"
   },
   {
    "duration": 84,
    "start_time": "2023-02-04T19:18:27.495Z"
   },
   {
    "duration": 15,
    "start_time": "2023-02-04T19:18:27.583Z"
   },
   {
    "duration": 67,
    "start_time": "2023-02-04T19:18:27.600Z"
   },
   {
    "duration": 15,
    "start_time": "2023-02-04T19:18:27.669Z"
   },
   {
    "duration": 243,
    "start_time": "2023-02-04T19:18:27.686Z"
   },
   {
    "duration": 12,
    "start_time": "2023-02-04T19:18:27.932Z"
   },
   {
    "duration": 28,
    "start_time": "2023-02-04T19:18:27.946Z"
   },
   {
    "duration": 283,
    "start_time": "2023-02-04T19:18:27.976Z"
   },
   {
    "duration": 9,
    "start_time": "2023-02-04T19:18:28.261Z"
   },
   {
    "duration": 58,
    "start_time": "2023-02-04T19:18:28.272Z"
   },
   {
    "duration": 31,
    "start_time": "2023-02-04T19:18:28.333Z"
   },
   {
    "duration": 15,
    "start_time": "2023-02-04T19:18:28.366Z"
   },
   {
    "duration": 84,
    "start_time": "2023-02-04T19:18:28.383Z"
   },
   {
    "duration": 115,
    "start_time": "2023-02-04T19:20:08.990Z"
   },
   {
    "duration": 5,
    "start_time": "2023-02-04T19:20:40.044Z"
   },
   {
    "duration": 999,
    "start_time": "2023-02-04T19:20:42.144Z"
   },
   {
    "duration": 12,
    "start_time": "2023-02-04T19:20:44.081Z"
   },
   {
    "duration": 97,
    "start_time": "2023-02-04T19:20:45.964Z"
   },
   {
    "duration": 9,
    "start_time": "2023-02-04T19:20:46.812Z"
   },
   {
    "duration": 13,
    "start_time": "2023-02-04T19:20:47.828Z"
   },
   {
    "duration": 10,
    "start_time": "2023-02-04T19:20:48.670Z"
   },
   {
    "duration": 19,
    "start_time": "2023-02-04T19:20:49.556Z"
   },
   {
    "duration": 9,
    "start_time": "2023-02-04T19:20:50.424Z"
   },
   {
    "duration": 23,
    "start_time": "2023-02-04T19:20:51.384Z"
   },
   {
    "duration": 55,
    "start_time": "2023-02-04T19:20:53.036Z"
   },
   {
    "duration": 24,
    "start_time": "2023-02-04T19:20:54.908Z"
   },
   {
    "duration": 57,
    "start_time": "2023-02-04T19:20:55.394Z"
   },
   {
    "duration": 9,
    "start_time": "2023-02-04T19:20:55.875Z"
   },
   {
    "duration": 34,
    "start_time": "2023-02-04T19:20:56.384Z"
   },
   {
    "duration": 15,
    "start_time": "2023-02-04T19:20:57.396Z"
   },
   {
    "duration": 110,
    "start_time": "2023-02-04T19:21:02.652Z"
   },
   {
    "duration": 7,
    "start_time": "2023-02-04T19:21:03.303Z"
   },
   {
    "duration": 16,
    "start_time": "2023-02-04T19:21:04.101Z"
   },
   {
    "duration": 185,
    "start_time": "2023-02-04T19:21:05.944Z"
   },
   {
    "duration": 6,
    "start_time": "2023-02-04T19:21:06.510Z"
   },
   {
    "duration": 36,
    "start_time": "2023-02-04T19:21:07.095Z"
   },
   {
    "duration": 13,
    "start_time": "2023-02-04T19:21:07.740Z"
   },
   {
    "duration": 7,
    "start_time": "2023-02-04T19:21:10.336Z"
   },
   {
    "duration": 20,
    "start_time": "2023-02-04T19:21:11.483Z"
   },
   {
    "duration": 6,
    "start_time": "2023-02-04T19:21:15.944Z"
   },
   {
    "duration": 37,
    "start_time": "2023-02-04T19:21:28.732Z"
   },
   {
    "duration": 18,
    "start_time": "2023-02-04T19:21:31.110Z"
   },
   {
    "duration": 26,
    "start_time": "2023-02-04T19:21:32.260Z"
   },
   {
    "duration": 9,
    "start_time": "2023-02-04T19:21:35.863Z"
   },
   {
    "duration": 15,
    "start_time": "2023-02-04T19:22:15.936Z"
   },
   {
    "duration": 15,
    "start_time": "2023-02-04T19:22:43.633Z"
   },
   {
    "duration": 14,
    "start_time": "2023-02-04T19:23:04.268Z"
   },
   {
    "duration": 407,
    "start_time": "2023-02-04T19:23:23.660Z"
   },
   {
    "duration": 43,
    "start_time": "2023-02-04T19:24:15.364Z"
   },
   {
    "duration": 79,
    "start_time": "2023-02-04T19:24:22.595Z"
   },
   {
    "duration": 77,
    "start_time": "2023-02-04T19:24:46.853Z"
   },
   {
    "duration": 56,
    "start_time": "2023-02-04T19:25:04.710Z"
   },
   {
    "duration": 40,
    "start_time": "2023-02-04T19:25:20.590Z"
   },
   {
    "duration": 7,
    "start_time": "2023-02-04T19:25:56.865Z"
   },
   {
    "duration": 16,
    "start_time": "2023-02-04T19:26:04.445Z"
   },
   {
    "duration": 55,
    "start_time": "2023-02-04T19:26:12.103Z"
   },
   {
    "duration": 13,
    "start_time": "2023-02-04T19:26:41.584Z"
   },
   {
    "duration": 54,
    "start_time": "2023-02-04T19:26:49.660Z"
   },
   {
    "duration": 119,
    "start_time": "2023-02-04T19:27:06.455Z"
   },
   {
    "duration": 48,
    "start_time": "2023-02-04T19:27:26.162Z"
   },
   {
    "duration": 175,
    "start_time": "2023-02-04T19:28:03.348Z"
   },
   {
    "duration": 64,
    "start_time": "2023-02-04T19:28:10.353Z"
   },
   {
    "duration": 13,
    "start_time": "2023-02-04T19:28:19.068Z"
   },
   {
    "duration": 10,
    "start_time": "2023-02-04T19:28:26.262Z"
   },
   {
    "duration": 9,
    "start_time": "2023-02-04T19:28:42.244Z"
   },
   {
    "duration": 41,
    "start_time": "2023-02-04T19:28:49.871Z"
   },
   {
    "duration": 26,
    "start_time": "2023-02-04T19:38:44.985Z"
   },
   {
    "duration": 354,
    "start_time": "2023-02-04T19:38:46.362Z"
   },
   {
    "duration": 17,
    "start_time": "2023-02-04T19:38:57.788Z"
   },
   {
    "duration": 76,
    "start_time": "2023-02-04T19:47:24.861Z"
   },
   {
    "duration": 76,
    "start_time": "2023-02-04T19:47:49.277Z"
   },
   {
    "duration": 120,
    "start_time": "2023-02-04T19:47:53.461Z"
   },
   {
    "duration": 83,
    "start_time": "2023-02-04T19:53:30.780Z"
   },
   {
    "duration": 54,
    "start_time": "2023-02-04T20:11:56.100Z"
   },
   {
    "duration": 58,
    "start_time": "2023-02-04T20:12:09.233Z"
   },
   {
    "duration": 14,
    "start_time": "2023-02-04T20:12:21.041Z"
   },
   {
    "duration": 34,
    "start_time": "2023-02-04T20:27:32.023Z"
   },
   {
    "duration": 13,
    "start_time": "2023-02-04T20:27:33.414Z"
   },
   {
    "duration": 20,
    "start_time": "2023-02-04T20:27:39.034Z"
   },
   {
    "duration": 33,
    "start_time": "2023-02-04T20:44:49.385Z"
   },
   {
    "duration": 1265,
    "start_time": "2023-02-05T02:26:20.576Z"
   },
   {
    "duration": 1236,
    "start_time": "2023-02-05T02:26:21.843Z"
   },
   {
    "duration": 13,
    "start_time": "2023-02-05T02:26:23.081Z"
   },
   {
    "duration": 80,
    "start_time": "2023-02-05T02:26:23.097Z"
   },
   {
    "duration": 8,
    "start_time": "2023-02-05T02:26:23.179Z"
   },
   {
    "duration": 18,
    "start_time": "2023-02-05T02:26:23.189Z"
   },
   {
    "duration": 16,
    "start_time": "2023-02-05T02:26:23.208Z"
   },
   {
    "duration": 26,
    "start_time": "2023-02-05T02:26:23.226Z"
   },
   {
    "duration": 7,
    "start_time": "2023-02-05T02:26:23.254Z"
   },
   {
    "duration": 18,
    "start_time": "2023-02-05T02:26:23.264Z"
   },
   {
    "duration": 76,
    "start_time": "2023-02-05T02:26:23.284Z"
   },
   {
    "duration": 28,
    "start_time": "2023-02-05T02:26:23.362Z"
   },
   {
    "duration": 78,
    "start_time": "2023-02-05T02:26:23.392Z"
   },
   {
    "duration": 8,
    "start_time": "2023-02-05T02:26:23.471Z"
   },
   {
    "duration": 34,
    "start_time": "2023-02-05T02:26:23.481Z"
   },
   {
    "duration": 23,
    "start_time": "2023-02-05T02:26:23.517Z"
   },
   {
    "duration": 124,
    "start_time": "2023-02-05T02:26:23.541Z"
   },
   {
    "duration": 5,
    "start_time": "2023-02-05T02:26:23.667Z"
   },
   {
    "duration": 24,
    "start_time": "2023-02-05T02:26:23.674Z"
   },
   {
    "duration": 196,
    "start_time": "2023-02-05T02:26:23.700Z"
   },
   {
    "duration": 6,
    "start_time": "2023-02-05T02:26:23.897Z"
   },
   {
    "duration": 44,
    "start_time": "2023-02-05T02:26:23.904Z"
   },
   {
    "duration": 9,
    "start_time": "2023-02-05T02:26:23.950Z"
   },
   {
    "duration": 7,
    "start_time": "2023-02-05T02:26:23.960Z"
   },
   {
    "duration": 17,
    "start_time": "2023-02-05T02:26:23.968Z"
   },
   {
    "duration": 5,
    "start_time": "2023-02-05T02:26:23.986Z"
   },
   {
    "duration": 69,
    "start_time": "2023-02-05T02:26:23.993Z"
   },
   {
    "duration": 17,
    "start_time": "2023-02-05T02:26:24.066Z"
   },
   {
    "duration": 28,
    "start_time": "2023-02-05T02:26:24.086Z"
   },
   {
    "duration": 27,
    "start_time": "2023-02-05T02:26:24.115Z"
   },
   {
    "duration": 18,
    "start_time": "2023-02-05T02:26:24.144Z"
   },
   {
    "duration": 24,
    "start_time": "2023-02-05T02:26:24.164Z"
   },
   {
    "duration": 535,
    "start_time": "2023-02-05T02:26:24.190Z"
   },
   {
    "duration": 32,
    "start_time": "2023-02-05T02:26:24.726Z"
   },
   {
    "duration": 119,
    "start_time": "2023-02-05T02:26:24.760Z"
   },
   {
    "duration": 97,
    "start_time": "2023-02-05T02:26:24.880Z"
   },
   {
    "duration": 71,
    "start_time": "2023-02-05T02:26:24.978Z"
   },
   {
    "duration": 26,
    "start_time": "2023-02-05T02:26:25.051Z"
   },
   {
    "duration": 11,
    "start_time": "2023-02-05T02:26:25.079Z"
   },
   {
    "duration": 24,
    "start_time": "2023-02-05T02:26:25.092Z"
   },
   {
    "duration": 51,
    "start_time": "2023-02-05T02:26:25.118Z"
   },
   {
    "duration": 18,
    "start_time": "2023-02-05T02:26:25.171Z"
   },
   {
    "duration": 49,
    "start_time": "2023-02-05T02:26:25.191Z"
   },
   {
    "duration": 134,
    "start_time": "2023-02-05T02:26:25.242Z"
   },
   {
    "duration": 152,
    "start_time": "2023-02-05T02:26:25.379Z"
   },
   {
    "duration": 19,
    "start_time": "2023-02-05T02:26:25.532Z"
   },
   {
    "duration": 25,
    "start_time": "2023-02-05T02:26:25.554Z"
   },
   {
    "duration": 9,
    "start_time": "2023-02-05T02:26:25.581Z"
   },
   {
    "duration": 69,
    "start_time": "2023-02-05T02:26:25.593Z"
   },
   {
    "duration": 21,
    "start_time": "2023-02-05T02:26:25.665Z"
   },
   {
    "duration": 9,
    "start_time": "2023-02-05T02:26:25.688Z"
   },
   {
    "duration": 48,
    "start_time": "2023-02-05T02:26:25.699Z"
   },
   {
    "duration": 20,
    "start_time": "2023-02-05T02:26:25.749Z"
   },
   {
    "duration": 358,
    "start_time": "2023-02-05T02:26:25.771Z"
   },
   {
    "duration": 15,
    "start_time": "2023-02-05T02:26:26.131Z"
   },
   {
    "duration": 28,
    "start_time": "2023-02-05T02:26:26.148Z"
   },
   {
    "duration": 73,
    "start_time": "2023-02-05T02:26:26.177Z"
   },
   {
    "duration": 57,
    "start_time": "2023-02-05T02:26:26.252Z"
   },
   {
    "duration": 33,
    "start_time": "2023-02-05T02:26:26.310Z"
   },
   {
    "duration": 59,
    "start_time": "2023-02-05T02:26:26.345Z"
   },
   {
    "duration": 56,
    "start_time": "2023-02-05T02:26:26.406Z"
   },
   {
    "duration": 12,
    "start_time": "2023-02-05T02:26:26.463Z"
   },
   {
    "duration": 25,
    "start_time": "2023-02-05T02:26:26.476Z"
   },
   {
    "duration": 81,
    "start_time": "2023-02-05T02:26:26.504Z"
   },
   {
    "duration": 1466,
    "start_time": "2023-02-05T06:38:00.614Z"
   },
   {
    "duration": 1506,
    "start_time": "2023-02-05T06:38:02.082Z"
   },
   {
    "duration": 13,
    "start_time": "2023-02-05T06:38:03.590Z"
   },
   {
    "duration": 52,
    "start_time": "2023-02-05T06:38:03.606Z"
   },
   {
    "duration": 8,
    "start_time": "2023-02-05T06:38:03.660Z"
   },
   {
    "duration": 10,
    "start_time": "2023-02-05T06:38:03.670Z"
   },
   {
    "duration": 7,
    "start_time": "2023-02-05T06:38:03.682Z"
   },
   {
    "duration": 37,
    "start_time": "2023-02-05T06:38:03.691Z"
   },
   {
    "duration": 8,
    "start_time": "2023-02-05T06:38:03.729Z"
   },
   {
    "duration": 20,
    "start_time": "2023-02-05T06:38:03.740Z"
   },
   {
    "duration": 50,
    "start_time": "2023-02-05T06:38:03.762Z"
   },
   {
    "duration": 32,
    "start_time": "2023-02-05T06:38:03.814Z"
   },
   {
    "duration": 53,
    "start_time": "2023-02-05T06:38:03.848Z"
   },
   {
    "duration": 25,
    "start_time": "2023-02-05T06:38:03.903Z"
   },
   {
    "duration": 13,
    "start_time": "2023-02-05T06:38:03.929Z"
   },
   {
    "duration": 8,
    "start_time": "2023-02-05T06:38:03.944Z"
   },
   {
    "duration": 117,
    "start_time": "2023-02-05T06:38:03.954Z"
   },
   {
    "duration": 4,
    "start_time": "2023-02-05T06:38:04.073Z"
   },
   {
    "duration": 26,
    "start_time": "2023-02-05T06:38:04.079Z"
   },
   {
    "duration": 201,
    "start_time": "2023-02-05T06:38:04.107Z"
   },
   {
    "duration": 7,
    "start_time": "2023-02-05T06:38:04.310Z"
   },
   {
    "duration": 41,
    "start_time": "2023-02-05T06:38:04.318Z"
   },
   {
    "duration": 10,
    "start_time": "2023-02-05T06:38:04.360Z"
   },
   {
    "duration": 16,
    "start_time": "2023-02-05T06:38:04.372Z"
   },
   {
    "duration": 19,
    "start_time": "2023-02-05T06:38:04.390Z"
   },
   {
    "duration": 6,
    "start_time": "2023-02-05T06:38:04.426Z"
   },
   {
    "duration": 50,
    "start_time": "2023-02-05T06:38:04.435Z"
   },
   {
    "duration": 16,
    "start_time": "2023-02-05T06:38:04.489Z"
   },
   {
    "duration": 30,
    "start_time": "2023-02-05T06:38:04.527Z"
   },
   {
    "duration": 12,
    "start_time": "2023-02-05T06:38:04.559Z"
   },
   {
    "duration": 13,
    "start_time": "2023-02-05T06:38:04.573Z"
   },
   {
    "duration": 44,
    "start_time": "2023-02-05T06:38:04.588Z"
   },
   {
    "duration": 362,
    "start_time": "2023-02-05T06:38:04.634Z"
   },
   {
    "duration": 38,
    "start_time": "2023-02-05T06:38:04.997Z"
   },
   {
    "duration": 130,
    "start_time": "2023-02-05T06:38:05.037Z"
   },
   {
    "duration": 86,
    "start_time": "2023-02-05T06:38:05.169Z"
   },
   {
    "duration": 57,
    "start_time": "2023-02-05T06:38:05.257Z"
   },
   {
    "duration": 22,
    "start_time": "2023-02-05T06:38:05.328Z"
   },
   {
    "duration": 5,
    "start_time": "2023-02-05T06:38:05.352Z"
   },
   {
    "duration": 28,
    "start_time": "2023-02-05T06:38:05.358Z"
   },
   {
    "duration": 54,
    "start_time": "2023-02-05T06:38:05.388Z"
   },
   {
    "duration": 9,
    "start_time": "2023-02-05T06:38:05.444Z"
   },
   {
    "duration": 37,
    "start_time": "2023-02-05T06:38:05.455Z"
   },
   {
    "duration": 156,
    "start_time": "2023-02-05T06:38:05.494Z"
   },
   {
    "duration": 150,
    "start_time": "2023-02-05T06:38:05.652Z"
   },
   {
    "duration": 10,
    "start_time": "2023-02-05T06:38:05.804Z"
   },
   {
    "duration": 17,
    "start_time": "2023-02-05T06:38:05.816Z"
   },
   {
    "duration": 8,
    "start_time": "2023-02-05T06:38:05.834Z"
   },
   {
    "duration": 51,
    "start_time": "2023-02-05T06:38:05.843Z"
   },
   {
    "duration": 65,
    "start_time": "2023-02-05T06:38:05.896Z"
   },
   {
    "duration": 9,
    "start_time": "2023-02-05T06:38:05.964Z"
   },
   {
    "duration": 27,
    "start_time": "2023-02-05T06:38:05.975Z"
   },
   {
    "duration": 43,
    "start_time": "2023-02-05T06:38:06.004Z"
   },
   {
    "duration": 345,
    "start_time": "2023-02-05T06:38:06.049Z"
   },
   {
    "duration": 15,
    "start_time": "2023-02-05T06:38:06.396Z"
   },
   {
    "duration": 27,
    "start_time": "2023-02-05T06:38:06.426Z"
   },
   {
    "duration": 49,
    "start_time": "2023-02-05T06:38:06.455Z"
   },
   {
    "duration": 55,
    "start_time": "2023-02-05T06:38:06.526Z"
   },
   {
    "duration": 14,
    "start_time": "2023-02-05T06:38:06.583Z"
   },
   {
    "duration": 94,
    "start_time": "2023-02-05T06:38:06.599Z"
   },
   {
    "duration": 49,
    "start_time": "2023-02-05T06:38:06.695Z"
   },
   {
    "duration": 10,
    "start_time": "2023-02-05T06:38:06.746Z"
   },
   {
    "duration": 17,
    "start_time": "2023-02-05T06:38:06.758Z"
   },
   {
    "duration": 76,
    "start_time": "2023-02-05T06:38:06.777Z"
   },
   {
    "duration": 1206,
    "start_time": "2023-02-05T07:11:41.622Z"
   },
   {
    "duration": 1042,
    "start_time": "2023-02-05T07:11:42.830Z"
   },
   {
    "duration": 14,
    "start_time": "2023-02-05T07:11:43.874Z"
   },
   {
    "duration": 55,
    "start_time": "2023-02-05T07:11:43.890Z"
   },
   {
    "duration": 8,
    "start_time": "2023-02-05T07:11:43.947Z"
   },
   {
    "duration": 15,
    "start_time": "2023-02-05T07:11:43.957Z"
   },
   {
    "duration": 14,
    "start_time": "2023-02-05T07:11:43.974Z"
   },
   {
    "duration": 20,
    "start_time": "2023-02-05T07:11:43.990Z"
   },
   {
    "duration": 10,
    "start_time": "2023-02-05T07:11:44.027Z"
   },
   {
    "duration": 22,
    "start_time": "2023-02-05T07:11:44.040Z"
   },
   {
    "duration": 50,
    "start_time": "2023-02-05T07:11:44.064Z"
   },
   {
    "duration": 34,
    "start_time": "2023-02-05T07:11:44.116Z"
   },
   {
    "duration": 57,
    "start_time": "2023-02-05T07:11:44.151Z"
   },
   {
    "duration": 7,
    "start_time": "2023-02-05T07:11:44.226Z"
   },
   {
    "duration": 25,
    "start_time": "2023-02-05T07:11:44.235Z"
   },
   {
    "duration": 11,
    "start_time": "2023-02-05T07:11:44.262Z"
   },
   {
    "duration": 130,
    "start_time": "2023-02-05T07:11:44.275Z"
   },
   {
    "duration": 5,
    "start_time": "2023-02-05T07:11:44.407Z"
   },
   {
    "duration": 25,
    "start_time": "2023-02-05T07:11:44.414Z"
   },
   {
    "duration": 187,
    "start_time": "2023-02-05T07:11:44.441Z"
   },
   {
    "duration": 8,
    "start_time": "2023-02-05T07:11:44.630Z"
   },
   {
    "duration": 36,
    "start_time": "2023-02-05T07:11:44.639Z"
   },
   {
    "duration": 10,
    "start_time": "2023-02-05T07:11:44.677Z"
   },
   {
    "duration": 15,
    "start_time": "2023-02-05T07:11:44.689Z"
   },
   {
    "duration": 32,
    "start_time": "2023-02-05T07:11:44.706Z"
   },
   {
    "duration": 5,
    "start_time": "2023-02-05T07:11:44.740Z"
   },
   {
    "duration": 44,
    "start_time": "2023-02-05T07:11:44.747Z"
   },
   {
    "duration": 40,
    "start_time": "2023-02-05T07:11:44.794Z"
   },
   {
    "duration": 25,
    "start_time": "2023-02-05T07:11:44.836Z"
   },
   {
    "duration": 11,
    "start_time": "2023-02-05T07:11:44.863Z"
   },
   {
    "duration": 11,
    "start_time": "2023-02-05T07:11:44.876Z"
   },
   {
    "duration": 45,
    "start_time": "2023-02-05T07:11:44.889Z"
   },
   {
    "duration": 364,
    "start_time": "2023-02-05T07:11:44.936Z"
   },
   {
    "duration": 39,
    "start_time": "2023-02-05T07:11:45.301Z"
   },
   {
    "duration": 119,
    "start_time": "2023-02-05T07:11:45.341Z"
   },
   {
    "duration": 73,
    "start_time": "2023-02-05T07:11:45.461Z"
   },
   {
    "duration": 55,
    "start_time": "2023-02-05T07:11:45.536Z"
   },
   {
    "duration": 39,
    "start_time": "2023-02-05T07:11:45.592Z"
   },
   {
    "duration": 6,
    "start_time": "2023-02-05T07:11:45.632Z"
   },
   {
    "duration": 18,
    "start_time": "2023-02-05T07:11:45.639Z"
   },
   {
    "duration": 39,
    "start_time": "2023-02-05T07:11:45.658Z"
   },
   {
    "duration": 31,
    "start_time": "2023-02-05T07:11:45.699Z"
   },
   {
    "duration": 39,
    "start_time": "2023-02-05T07:11:45.732Z"
   },
   {
    "duration": 130,
    "start_time": "2023-02-05T07:11:45.773Z"
   },
   {
    "duration": 132,
    "start_time": "2023-02-05T07:11:45.904Z"
   },
   {
    "duration": 13,
    "start_time": "2023-02-05T07:11:46.038Z"
   },
   {
    "duration": 19,
    "start_time": "2023-02-05T07:11:46.053Z"
   },
   {
    "duration": 12,
    "start_time": "2023-02-05T07:11:46.074Z"
   },
   {
    "duration": 45,
    "start_time": "2023-02-05T07:11:46.088Z"
   },
   {
    "duration": 20,
    "start_time": "2023-02-05T07:11:46.135Z"
   },
   {
    "duration": 6,
    "start_time": "2023-02-05T07:11:46.157Z"
   },
   {
    "duration": 26,
    "start_time": "2023-02-05T07:11:46.165Z"
   },
   {
    "duration": 42,
    "start_time": "2023-02-05T07:11:46.193Z"
   },
   {
    "duration": 378,
    "start_time": "2023-02-05T07:11:46.236Z"
   },
   {
    "duration": 15,
    "start_time": "2023-02-05T07:11:46.616Z"
   },
   {
    "duration": 48,
    "start_time": "2023-02-05T07:11:46.634Z"
   },
   {
    "duration": 90,
    "start_time": "2023-02-05T07:11:46.684Z"
   },
   {
    "duration": 64,
    "start_time": "2023-02-05T07:11:46.776Z"
   },
   {
    "duration": 13,
    "start_time": "2023-02-05T07:11:46.842Z"
   },
   {
    "duration": 75,
    "start_time": "2023-02-05T07:11:46.857Z"
   },
   {
    "duration": 44,
    "start_time": "2023-02-05T07:11:46.934Z"
   },
   {
    "duration": 10,
    "start_time": "2023-02-05T07:11:46.980Z"
   },
   {
    "duration": 38,
    "start_time": "2023-02-05T07:11:46.992Z"
   },
   {
    "duration": 60,
    "start_time": "2023-02-05T07:11:47.032Z"
   },
   {
    "duration": 61,
    "start_time": "2023-02-05T07:12:45.081Z"
   },
   {
    "duration": 5,
    "start_time": "2023-02-05T07:13:33.033Z"
   },
   {
    "duration": 5,
    "start_time": "2023-02-05T07:14:01.059Z"
   },
   {
    "duration": 5,
    "start_time": "2023-02-05T07:14:49.998Z"
   },
   {
    "duration": 4,
    "start_time": "2023-02-05T07:32:18.332Z"
   },
   {
    "duration": 5,
    "start_time": "2023-02-05T07:32:42.768Z"
   },
   {
    "duration": 4,
    "start_time": "2023-02-05T07:33:19.010Z"
   },
   {
    "duration": 1254,
    "start_time": "2023-02-05T08:36:21.415Z"
   },
   {
    "duration": 1031,
    "start_time": "2023-02-05T08:36:22.671Z"
   },
   {
    "duration": 13,
    "start_time": "2023-02-05T08:36:23.704Z"
   },
   {
    "duration": 51,
    "start_time": "2023-02-05T08:36:23.720Z"
   },
   {
    "duration": 8,
    "start_time": "2023-02-05T08:36:23.773Z"
   },
   {
    "duration": 12,
    "start_time": "2023-02-05T08:36:23.783Z"
   },
   {
    "duration": 9,
    "start_time": "2023-02-05T08:36:23.797Z"
   },
   {
    "duration": 29,
    "start_time": "2023-02-05T08:36:23.808Z"
   },
   {
    "duration": 8,
    "start_time": "2023-02-05T08:36:23.839Z"
   },
   {
    "duration": 12,
    "start_time": "2023-02-05T08:36:23.851Z"
   },
   {
    "duration": 75,
    "start_time": "2023-02-05T08:36:23.865Z"
   },
   {
    "duration": 24,
    "start_time": "2023-02-05T08:36:23.942Z"
   },
   {
    "duration": 74,
    "start_time": "2023-02-05T08:36:23.968Z"
   },
   {
    "duration": 6,
    "start_time": "2023-02-05T08:36:24.044Z"
   },
   {
    "duration": 14,
    "start_time": "2023-02-05T08:36:24.052Z"
   },
   {
    "duration": 8,
    "start_time": "2023-02-05T08:36:24.067Z"
   },
   {
    "duration": 127,
    "start_time": "2023-02-05T08:36:24.077Z"
   },
   {
    "duration": 5,
    "start_time": "2023-02-05T08:36:24.206Z"
   },
   {
    "duration": 20,
    "start_time": "2023-02-05T08:36:24.213Z"
   },
   {
    "duration": 197,
    "start_time": "2023-02-05T08:36:24.235Z"
   },
   {
    "duration": 6,
    "start_time": "2023-02-05T08:36:24.433Z"
   },
   {
    "duration": 31,
    "start_time": "2023-02-05T08:36:24.440Z"
   },
   {
    "duration": 10,
    "start_time": "2023-02-05T08:36:24.473Z"
   },
   {
    "duration": 5,
    "start_time": "2023-02-05T08:36:24.485Z"
   },
   {
    "duration": 46,
    "start_time": "2023-02-05T08:36:24.491Z"
   },
   {
    "duration": 4,
    "start_time": "2023-02-05T08:36:24.538Z"
   },
   {
    "duration": 6,
    "start_time": "2023-02-05T08:36:24.544Z"
   },
   {
    "duration": 7,
    "start_time": "2023-02-05T08:36:24.553Z"
   },
   {
    "duration": 5,
    "start_time": "2023-02-05T08:36:24.561Z"
   },
   {
    "duration": 61,
    "start_time": "2023-02-05T08:36:24.568Z"
   },
   {
    "duration": 17,
    "start_time": "2023-02-05T08:36:24.631Z"
   },
   {
    "duration": 23,
    "start_time": "2023-02-05T08:36:24.650Z"
   },
   {
    "duration": 12,
    "start_time": "2023-02-05T08:36:24.675Z"
   },
   {
    "duration": 10,
    "start_time": "2023-02-05T08:36:24.689Z"
   },
   {
    "duration": 17,
    "start_time": "2023-02-05T08:36:24.727Z"
   },
   {
    "duration": 349,
    "start_time": "2023-02-05T08:36:24.745Z"
   },
   {
    "duration": 35,
    "start_time": "2023-02-05T08:36:25.096Z"
   },
   {
    "duration": 119,
    "start_time": "2023-02-05T08:36:25.132Z"
   },
   {
    "duration": 78,
    "start_time": "2023-02-05T08:36:25.253Z"
   },
   {
    "duration": 51,
    "start_time": "2023-02-05T08:36:25.333Z"
   },
   {
    "duration": 43,
    "start_time": "2023-02-05T08:36:25.385Z"
   },
   {
    "duration": 6,
    "start_time": "2023-02-05T08:36:25.429Z"
   },
   {
    "duration": 13,
    "start_time": "2023-02-05T08:36:25.436Z"
   },
   {
    "duration": 35,
    "start_time": "2023-02-05T08:36:25.451Z"
   },
   {
    "duration": 9,
    "start_time": "2023-02-05T08:36:25.487Z"
   },
   {
    "duration": 67,
    "start_time": "2023-02-05T08:36:25.498Z"
   },
   {
    "duration": 118,
    "start_time": "2023-02-05T08:36:25.567Z"
   },
   {
    "duration": 145,
    "start_time": "2023-02-05T08:36:25.687Z"
   },
   {
    "duration": 9,
    "start_time": "2023-02-05T08:36:25.833Z"
   },
   {
    "duration": 7,
    "start_time": "2023-02-05T08:36:25.843Z"
   },
   {
    "duration": 6,
    "start_time": "2023-02-05T08:36:25.851Z"
   },
   {
    "duration": 30,
    "start_time": "2023-02-05T08:36:25.859Z"
   },
   {
    "duration": 44,
    "start_time": "2023-02-05T08:36:25.891Z"
   },
   {
    "duration": 5,
    "start_time": "2023-02-05T08:36:25.936Z"
   },
   {
    "duration": 27,
    "start_time": "2023-02-05T08:36:25.943Z"
   },
   {
    "duration": 14,
    "start_time": "2023-02-05T08:36:25.973Z"
   },
   {
    "duration": 360,
    "start_time": "2023-02-05T08:36:25.988Z"
   },
   {
    "duration": 11,
    "start_time": "2023-02-05T08:36:26.350Z"
   },
   {
    "duration": 32,
    "start_time": "2023-02-05T08:36:26.363Z"
   },
   {
    "duration": 74,
    "start_time": "2023-02-05T08:36:26.397Z"
   },
   {
    "duration": 64,
    "start_time": "2023-02-05T08:36:26.472Z"
   },
   {
    "duration": 13,
    "start_time": "2023-02-05T08:36:26.538Z"
   },
   {
    "duration": 75,
    "start_time": "2023-02-05T08:36:26.553Z"
   },
   {
    "duration": 39,
    "start_time": "2023-02-05T08:36:26.630Z"
   },
   {
    "duration": 11,
    "start_time": "2023-02-05T08:36:26.671Z"
   },
   {
    "duration": 43,
    "start_time": "2023-02-05T08:36:26.684Z"
   },
   {
    "duration": 55,
    "start_time": "2023-02-05T08:36:26.729Z"
   },
   {
    "duration": 1468,
    "start_time": "2023-02-05T19:15:34.890Z"
   },
   {
    "duration": 1513,
    "start_time": "2023-02-05T19:15:36.361Z"
   },
   {
    "duration": 13,
    "start_time": "2023-02-05T19:15:37.876Z"
   },
   {
    "duration": 84,
    "start_time": "2023-02-05T19:15:37.892Z"
   },
   {
    "duration": 8,
    "start_time": "2023-02-05T19:15:37.978Z"
   },
   {
    "duration": 20,
    "start_time": "2023-02-05T19:15:37.988Z"
   },
   {
    "duration": 39,
    "start_time": "2023-02-05T19:15:38.010Z"
   },
   {
    "duration": 20,
    "start_time": "2023-02-05T19:15:38.051Z"
   },
   {
    "duration": 8,
    "start_time": "2023-02-05T19:15:38.073Z"
   },
   {
    "duration": 16,
    "start_time": "2023-02-05T19:15:38.084Z"
   },
   {
    "duration": 79,
    "start_time": "2023-02-05T19:15:38.102Z"
   },
   {
    "duration": 41,
    "start_time": "2023-02-05T19:15:38.183Z"
   },
   {
    "duration": 134,
    "start_time": "2023-02-05T19:15:38.225Z"
   },
   {
    "duration": 5,
    "start_time": "2023-02-05T19:15:38.361Z"
   },
   {
    "duration": 79,
    "start_time": "2023-02-05T19:15:38.368Z"
   },
   {
    "duration": 22,
    "start_time": "2023-02-05T19:15:38.449Z"
   },
   {
    "duration": 139,
    "start_time": "2023-02-05T19:15:38.472Z"
   },
   {
    "duration": 9,
    "start_time": "2023-02-05T19:15:38.613Z"
   },
   {
    "duration": 43,
    "start_time": "2023-02-05T19:15:38.624Z"
   },
   {
    "duration": 571,
    "start_time": "2023-02-05T19:15:38.668Z"
   },
   {
    "duration": 7,
    "start_time": "2023-02-05T19:15:39.243Z"
   },
   {
    "duration": 174,
    "start_time": "2023-02-05T19:15:39.253Z"
   },
   {
    "duration": 21,
    "start_time": "2023-02-05T19:15:39.430Z"
   },
   {
    "duration": 8,
    "start_time": "2023-02-05T19:15:39.454Z"
   },
   {
    "duration": 68,
    "start_time": "2023-02-05T19:15:39.464Z"
   },
   {
    "duration": 22,
    "start_time": "2023-02-05T19:15:39.534Z"
   },
   {
    "duration": 6,
    "start_time": "2023-02-05T19:15:39.557Z"
   },
   {
    "duration": 6,
    "start_time": "2023-02-05T19:15:39.566Z"
   },
   {
    "duration": 54,
    "start_time": "2023-02-05T19:15:39.573Z"
   },
   {
    "duration": 45,
    "start_time": "2023-02-05T19:15:39.640Z"
   },
   {
    "duration": 18,
    "start_time": "2023-02-05T19:15:39.687Z"
   },
   {
    "duration": 51,
    "start_time": "2023-02-05T19:15:39.706Z"
   },
   {
    "duration": 14,
    "start_time": "2023-02-05T19:15:39.758Z"
   },
   {
    "duration": 64,
    "start_time": "2023-02-05T19:15:39.774Z"
   },
   {
    "duration": 28,
    "start_time": "2023-02-05T19:15:39.846Z"
   },
   {
    "duration": 1476,
    "start_time": "2023-02-05T19:15:39.875Z"
   },
   {
    "duration": 28,
    "start_time": "2023-02-05T19:15:41.353Z"
   },
   {
    "duration": 181,
    "start_time": "2023-02-05T19:15:41.383Z"
   },
   {
    "duration": 73,
    "start_time": "2023-02-05T19:15:41.566Z"
   },
   {
    "duration": 65,
    "start_time": "2023-02-05T19:15:41.645Z"
   },
   {
    "duration": 38,
    "start_time": "2023-02-05T19:15:41.723Z"
   },
   {
    "duration": 6,
    "start_time": "2023-02-05T19:15:41.763Z"
   },
   {
    "duration": 11,
    "start_time": "2023-02-05T19:15:41.771Z"
   },
   {
    "duration": 76,
    "start_time": "2023-02-05T19:15:41.785Z"
   },
   {
    "duration": 10,
    "start_time": "2023-02-05T19:15:41.863Z"
   },
   {
    "duration": 74,
    "start_time": "2023-02-05T19:15:41.875Z"
   },
   {
    "duration": 137,
    "start_time": "2023-02-05T19:15:41.951Z"
   },
   {
    "duration": 190,
    "start_time": "2023-02-05T19:15:42.090Z"
   },
   {
    "duration": 11,
    "start_time": "2023-02-05T19:15:42.282Z"
   },
   {
    "duration": 8,
    "start_time": "2023-02-05T19:15:42.296Z"
   },
   {
    "duration": 23,
    "start_time": "2023-02-05T19:15:42.306Z"
   },
   {
    "duration": 72,
    "start_time": "2023-02-05T19:15:42.331Z"
   },
   {
    "duration": 23,
    "start_time": "2023-02-05T19:15:42.405Z"
   },
   {
    "duration": 15,
    "start_time": "2023-02-05T19:15:42.429Z"
   },
   {
    "duration": 28,
    "start_time": "2023-02-05T19:15:42.447Z"
   },
   {
    "duration": 15,
    "start_time": "2023-02-05T19:15:42.476Z"
   },
   {
    "duration": 412,
    "start_time": "2023-02-05T19:15:42.492Z"
   },
   {
    "duration": 20,
    "start_time": "2023-02-05T19:15:42.905Z"
   },
   {
    "duration": 32,
    "start_time": "2023-02-05T19:15:42.928Z"
   },
   {
    "duration": 77,
    "start_time": "2023-02-05T19:15:42.962Z"
   },
   {
    "duration": 62,
    "start_time": "2023-02-05T19:15:43.041Z"
   },
   {
    "duration": 22,
    "start_time": "2023-02-05T19:15:43.128Z"
   },
   {
    "duration": 62,
    "start_time": "2023-02-05T19:15:43.152Z"
   },
   {
    "duration": 48,
    "start_time": "2023-02-05T19:15:43.223Z"
   },
   {
    "duration": 10,
    "start_time": "2023-02-05T19:15:43.273Z"
   },
   {
    "duration": 21,
    "start_time": "2023-02-05T19:15:43.285Z"
   },
   {
    "duration": 71,
    "start_time": "2023-02-05T19:15:43.327Z"
   },
   {
    "duration": 454,
    "start_time": "2023-02-05T19:16:54.799Z"
   },
   {
    "duration": 1412,
    "start_time": "2023-03-29T08:22:59.870Z"
   },
   {
    "duration": 1324,
    "start_time": "2023-03-29T08:23:01.284Z"
   },
   {
    "duration": 19,
    "start_time": "2023-03-29T08:23:02.610Z"
   },
   {
    "duration": 99,
    "start_time": "2023-03-29T08:23:02.632Z"
   },
   {
    "duration": 11,
    "start_time": "2023-03-29T08:23:02.733Z"
   },
   {
    "duration": 27,
    "start_time": "2023-03-29T08:23:02.746Z"
   },
   {
    "duration": 10,
    "start_time": "2023-03-29T08:23:02.775Z"
   },
   {
    "duration": 40,
    "start_time": "2023-03-29T08:23:02.787Z"
   },
   {
    "duration": 32,
    "start_time": "2023-03-29T08:23:02.830Z"
   },
   {
    "duration": 19,
    "start_time": "2023-03-29T08:23:02.866Z"
   },
   {
    "duration": 130,
    "start_time": "2023-03-29T08:23:02.887Z"
   },
   {
    "duration": 57,
    "start_time": "2023-03-29T08:23:03.019Z"
   },
   {
    "duration": 92,
    "start_time": "2023-03-29T08:23:03.078Z"
   },
   {
    "duration": 7,
    "start_time": "2023-03-29T08:23:03.172Z"
   },
   {
    "duration": 26,
    "start_time": "2023-03-29T08:23:03.181Z"
   },
   {
    "duration": 17,
    "start_time": "2023-03-29T08:23:03.208Z"
   },
   {
    "duration": 141,
    "start_time": "2023-03-29T08:23:03.226Z"
   },
   {
    "duration": 6,
    "start_time": "2023-03-29T08:23:03.369Z"
   },
   {
    "duration": 20,
    "start_time": "2023-03-29T08:23:03.377Z"
   },
   {
    "duration": 317,
    "start_time": "2023-03-29T08:23:03.400Z"
   },
   {
    "duration": 9,
    "start_time": "2023-03-29T08:23:03.719Z"
   },
   {
    "duration": 56,
    "start_time": "2023-03-29T08:23:03.730Z"
   },
   {
    "duration": 10,
    "start_time": "2023-03-29T08:23:03.789Z"
   },
   {
    "duration": 10,
    "start_time": "2023-03-29T08:23:03.803Z"
   },
   {
    "duration": 50,
    "start_time": "2023-03-29T08:23:03.815Z"
   },
   {
    "duration": 5,
    "start_time": "2023-03-29T08:23:03.868Z"
   },
   {
    "duration": 51,
    "start_time": "2023-03-29T08:23:03.875Z"
   },
   {
    "duration": 32,
    "start_time": "2023-03-29T08:23:03.931Z"
   },
   {
    "duration": 7,
    "start_time": "2023-03-29T08:23:03.965Z"
   },
   {
    "duration": 49,
    "start_time": "2023-03-29T08:23:03.974Z"
   },
   {
    "duration": 38,
    "start_time": "2023-03-29T08:23:04.026Z"
   },
   {
    "duration": 42,
    "start_time": "2023-03-29T08:23:04.067Z"
   },
   {
    "duration": 17,
    "start_time": "2023-03-29T08:23:04.112Z"
   },
   {
    "duration": 39,
    "start_time": "2023-03-29T08:23:04.131Z"
   },
   {
    "duration": 29,
    "start_time": "2023-03-29T08:23:04.172Z"
   },
   {
    "duration": 201,
    "start_time": "2023-03-29T08:23:04.204Z"
   },
   {
    "duration": 35,
    "start_time": "2023-03-29T08:23:04.406Z"
   },
   {
    "duration": 479,
    "start_time": "2023-03-29T08:23:04.443Z"
   },
   {
    "duration": 394,
    "start_time": "2023-03-29T08:23:04.925Z"
   },
   {
    "duration": 280,
    "start_time": "2023-03-29T08:23:05.322Z"
   },
   {
    "duration": 44,
    "start_time": "2023-03-29T08:23:05.604Z"
   },
   {
    "duration": 6,
    "start_time": "2023-03-29T08:23:05.663Z"
   },
   {
    "duration": 14,
    "start_time": "2023-03-29T08:23:05.672Z"
   },
   {
    "duration": 212,
    "start_time": "2023-03-29T08:23:05.688Z"
   },
   {
    "duration": 14,
    "start_time": "2023-03-29T08:23:05.910Z"
   },
   {
    "duration": 181,
    "start_time": "2023-03-29T08:23:05.926Z"
   },
   {
    "duration": 16,
    "start_time": "2023-03-29T08:23:06.110Z"
   },
   {
    "duration": 185,
    "start_time": "2023-03-29T08:23:06.128Z"
   },
   {
    "duration": 172,
    "start_time": "2023-03-29T08:23:06.315Z"
   },
   {
    "duration": 14,
    "start_time": "2023-03-29T08:23:06.489Z"
   },
   {
    "duration": 11,
    "start_time": "2023-03-29T08:23:06.505Z"
   },
   {
    "duration": 13,
    "start_time": "2023-03-29T08:23:06.518Z"
   },
   {
    "duration": 183,
    "start_time": "2023-03-29T08:23:06.534Z"
   },
   {
    "duration": 43,
    "start_time": "2023-03-29T08:23:06.719Z"
   },
   {
    "duration": 5,
    "start_time": "2023-03-29T08:23:06.764Z"
   },
   {
    "duration": 24,
    "start_time": "2023-03-29T08:23:06.771Z"
   },
   {
    "duration": 16,
    "start_time": "2023-03-29T08:23:06.797Z"
   },
   {
    "duration": 386,
    "start_time": "2023-03-29T08:23:06.815Z"
   },
   {
    "duration": 12,
    "start_time": "2023-03-29T08:23:07.203Z"
   },
   {
    "duration": 384,
    "start_time": "2023-03-29T08:23:07.217Z"
   },
   {
    "duration": 174,
    "start_time": "2023-03-29T08:23:07.603Z"
   },
   {
    "duration": 298,
    "start_time": "2023-03-29T08:23:07.779Z"
   },
   {
    "duration": 15,
    "start_time": "2023-03-29T08:23:08.079Z"
   },
   {
    "duration": 286,
    "start_time": "2023-03-29T08:23:08.096Z"
   },
   {
    "duration": 38,
    "start_time": "2023-03-29T08:23:08.384Z"
   },
   {
    "duration": 11,
    "start_time": "2023-03-29T08:23:08.424Z"
   },
   {
    "duration": 160,
    "start_time": "2023-03-29T08:23:08.436Z"
   },
   {
    "duration": 104,
    "start_time": "2023-03-29T08:23:08.598Z"
   },
   {
    "duration": 1406,
    "start_time": "2023-03-29T08:26:21.861Z"
   },
   {
    "duration": 1064,
    "start_time": "2023-03-29T08:26:23.269Z"
   },
   {
    "duration": 61,
    "start_time": "2023-03-29T08:26:24.335Z"
   },
   {
    "duration": 135,
    "start_time": "2023-03-29T08:26:24.398Z"
   },
   {
    "duration": 5,
    "start_time": "2023-03-29T08:26:24.535Z"
   },
   {
    "duration": 29,
    "start_time": "2023-03-29T08:26:24.542Z"
   },
   {
    "duration": 6,
    "start_time": "2023-03-29T08:26:24.573Z"
   },
   {
    "duration": 46,
    "start_time": "2023-03-29T08:26:24.580Z"
   },
   {
    "duration": 0,
    "start_time": "2023-03-29T08:26:24.629Z"
   },
   {
    "duration": 0,
    "start_time": "2023-03-29T08:26:24.630Z"
   },
   {
    "duration": 0,
    "start_time": "2023-03-29T08:26:24.631Z"
   },
   {
    "duration": 0,
    "start_time": "2023-03-29T08:26:24.632Z"
   },
   {
    "duration": 0,
    "start_time": "2023-03-29T08:26:24.633Z"
   },
   {
    "duration": 0,
    "start_time": "2023-03-29T08:26:24.634Z"
   },
   {
    "duration": 0,
    "start_time": "2023-03-29T08:26:24.636Z"
   },
   {
    "duration": 0,
    "start_time": "2023-03-29T08:26:24.637Z"
   },
   {
    "duration": 0,
    "start_time": "2023-03-29T08:26:24.638Z"
   },
   {
    "duration": 0,
    "start_time": "2023-03-29T08:26:24.639Z"
   },
   {
    "duration": 0,
    "start_time": "2023-03-29T08:26:24.640Z"
   },
   {
    "duration": 0,
    "start_time": "2023-03-29T08:26:24.641Z"
   },
   {
    "duration": 0,
    "start_time": "2023-03-29T08:26:24.642Z"
   },
   {
    "duration": 0,
    "start_time": "2023-03-29T08:26:24.643Z"
   },
   {
    "duration": 0,
    "start_time": "2023-03-29T08:26:24.644Z"
   },
   {
    "duration": 0,
    "start_time": "2023-03-29T08:26:24.645Z"
   },
   {
    "duration": 0,
    "start_time": "2023-03-29T08:26:24.646Z"
   },
   {
    "duration": 0,
    "start_time": "2023-03-29T08:26:24.647Z"
   },
   {
    "duration": 0,
    "start_time": "2023-03-29T08:26:24.648Z"
   },
   {
    "duration": 0,
    "start_time": "2023-03-29T08:26:24.662Z"
   },
   {
    "duration": 0,
    "start_time": "2023-03-29T08:26:24.663Z"
   },
   {
    "duration": 0,
    "start_time": "2023-03-29T08:26:24.664Z"
   },
   {
    "duration": 0,
    "start_time": "2023-03-29T08:26:24.665Z"
   },
   {
    "duration": 0,
    "start_time": "2023-03-29T08:26:24.666Z"
   },
   {
    "duration": 0,
    "start_time": "2023-03-29T08:26:24.667Z"
   },
   {
    "duration": 0,
    "start_time": "2023-03-29T08:26:24.668Z"
   },
   {
    "duration": 0,
    "start_time": "2023-03-29T08:26:24.669Z"
   },
   {
    "duration": 0,
    "start_time": "2023-03-29T08:26:24.670Z"
   },
   {
    "duration": 0,
    "start_time": "2023-03-29T08:26:24.671Z"
   },
   {
    "duration": 0,
    "start_time": "2023-03-29T08:26:24.672Z"
   },
   {
    "duration": 0,
    "start_time": "2023-03-29T08:26:24.673Z"
   },
   {
    "duration": 0,
    "start_time": "2023-03-29T08:26:24.674Z"
   },
   {
    "duration": 0,
    "start_time": "2023-03-29T08:26:24.675Z"
   },
   {
    "duration": 0,
    "start_time": "2023-03-29T08:26:24.677Z"
   },
   {
    "duration": 0,
    "start_time": "2023-03-29T08:26:24.678Z"
   },
   {
    "duration": 0,
    "start_time": "2023-03-29T08:26:24.678Z"
   },
   {
    "duration": 0,
    "start_time": "2023-03-29T08:26:24.679Z"
   },
   {
    "duration": 0,
    "start_time": "2023-03-29T08:26:24.680Z"
   },
   {
    "duration": 0,
    "start_time": "2023-03-29T08:26:24.681Z"
   },
   {
    "duration": 0,
    "start_time": "2023-03-29T08:26:24.682Z"
   },
   {
    "duration": 0,
    "start_time": "2023-03-29T08:26:24.683Z"
   },
   {
    "duration": 0,
    "start_time": "2023-03-29T08:26:24.684Z"
   },
   {
    "duration": 0,
    "start_time": "2023-03-29T08:26:24.685Z"
   }
  ],
  "colab": {
   "provenance": [
    {
     "file_id": "1npKhb6nSDF7jAV0f8a4STc6xsKs1iqyT",
     "timestamp": 1679909427927
    }
   ],
   "toc_visible": true
  },
  "kernelspec": {
   "display_name": "Python 3 (ipykernel)",
   "language": "python",
   "name": "python3"
  },
  "language_info": {
   "codemirror_mode": {
    "name": "ipython",
    "version": 3
   },
   "file_extension": ".py",
   "mimetype": "text/x-python",
   "name": "python",
   "nbconvert_exporter": "python",
   "pygments_lexer": "ipython3",
   "version": "3.9.5"
  },
  "toc": {
   "base_numbering": 1,
   "nav_menu": {},
   "number_sections": true,
   "sideBar": true,
   "skip_h1_title": true,
   "title_cell": "Table of Contents",
   "title_sidebar": "Contents",
   "toc_cell": false,
   "toc_position": {
    "height": "calc(100% - 180px)",
    "left": "10px",
    "top": "150px",
    "width": "286.075px"
   },
   "toc_section_display": true,
   "toc_window_display": true
  }
 },
 "nbformat": 4,
 "nbformat_minor": 1
}
